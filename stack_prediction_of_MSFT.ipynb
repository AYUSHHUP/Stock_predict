{
  "cells": [
    {
      "cell_type": "markdown",
      "metadata": {
        "id": "view-in-github",
        "colab_type": "text"
      },
      "source": [
        "<a href=\"https://colab.research.google.com/github/AYUSHHUP/Stock_predict/blob/main/stack_prediction_of_MSFT.ipynb\" target=\"_parent\"><img src=\"https://colab.research.google.com/assets/colab-badge.svg\" alt=\"Open In Colab\"/></a>"
      ]
    },
    {
      "cell_type": "code",
      "source": [
        "import pandas as pd\n",
        "df=pd.read_csv('MSFT.csv')\n",
        "df"
      ],
      "metadata": {
        "id": "2zo0FpilSGu4",
        "outputId": "c97df0b2-7131-431a-9998-746076478ffe",
        "colab": {
          "base_uri": "https://localhost:8080/",
          "height": 423
        }
      },
      "execution_count": null,
      "outputs": [
        {
          "output_type": "execute_result",
          "data": {
            "text/plain": [
              "            Date        Open        High         Low       Close   Adj Close  \\\n",
              "0     1986-03-13    0.088542    0.101563    0.088542    0.097222    0.060524   \n",
              "1     1986-03-14    0.097222    0.102431    0.097222    0.100694    0.062686   \n",
              "2     1986-03-17    0.100694    0.103299    0.100694    0.102431    0.063767   \n",
              "3     1986-03-18    0.102431    0.103299    0.098958    0.099826    0.062145   \n",
              "4     1986-03-19    0.099826    0.100694    0.097222    0.098090    0.061065   \n",
              "...          ...         ...         ...         ...         ...         ...   \n",
              "9415  2023-07-24  345.850006  346.920013  342.309998  345.109985  345.109985   \n",
              "9416  2023-07-25  347.109985  351.890015  345.070007  350.980011  350.980011   \n",
              "9417  2023-07-26  341.440002  344.670013  333.109985  337.769989  337.769989   \n",
              "9418  2023-07-27  340.480011  341.329987  329.049988  330.720001  330.720001   \n",
              "9419  2023-07-28  333.670013  340.010010  333.170013  338.369995  338.369995   \n",
              "\n",
              "          Volume  \n",
              "0     1031788800  \n",
              "1      308160000  \n",
              "2      133171200  \n",
              "3       67766400  \n",
              "4       47894400  \n",
              "...          ...  \n",
              "9415    26678100  \n",
              "9416    41637700  \n",
              "9417    58383700  \n",
              "9418    39635300  \n",
              "9419    28463000  \n",
              "\n",
              "[9420 rows x 7 columns]"
            ],
            "text/html": [
              "\n",
              "\n",
              "  <div id=\"df-13359e9f-2792-4ad8-9773-c1d7a64a6d47\">\n",
              "    <div class=\"colab-df-container\">\n",
              "      <div>\n",
              "<style scoped>\n",
              "    .dataframe tbody tr th:only-of-type {\n",
              "        vertical-align: middle;\n",
              "    }\n",
              "\n",
              "    .dataframe tbody tr th {\n",
              "        vertical-align: top;\n",
              "    }\n",
              "\n",
              "    .dataframe thead th {\n",
              "        text-align: right;\n",
              "    }\n",
              "</style>\n",
              "<table border=\"1\" class=\"dataframe\">\n",
              "  <thead>\n",
              "    <tr style=\"text-align: right;\">\n",
              "      <th></th>\n",
              "      <th>Date</th>\n",
              "      <th>Open</th>\n",
              "      <th>High</th>\n",
              "      <th>Low</th>\n",
              "      <th>Close</th>\n",
              "      <th>Adj Close</th>\n",
              "      <th>Volume</th>\n",
              "    </tr>\n",
              "  </thead>\n",
              "  <tbody>\n",
              "    <tr>\n",
              "      <th>0</th>\n",
              "      <td>1986-03-13</td>\n",
              "      <td>0.088542</td>\n",
              "      <td>0.101563</td>\n",
              "      <td>0.088542</td>\n",
              "      <td>0.097222</td>\n",
              "      <td>0.060524</td>\n",
              "      <td>1031788800</td>\n",
              "    </tr>\n",
              "    <tr>\n",
              "      <th>1</th>\n",
              "      <td>1986-03-14</td>\n",
              "      <td>0.097222</td>\n",
              "      <td>0.102431</td>\n",
              "      <td>0.097222</td>\n",
              "      <td>0.100694</td>\n",
              "      <td>0.062686</td>\n",
              "      <td>308160000</td>\n",
              "    </tr>\n",
              "    <tr>\n",
              "      <th>2</th>\n",
              "      <td>1986-03-17</td>\n",
              "      <td>0.100694</td>\n",
              "      <td>0.103299</td>\n",
              "      <td>0.100694</td>\n",
              "      <td>0.102431</td>\n",
              "      <td>0.063767</td>\n",
              "      <td>133171200</td>\n",
              "    </tr>\n",
              "    <tr>\n",
              "      <th>3</th>\n",
              "      <td>1986-03-18</td>\n",
              "      <td>0.102431</td>\n",
              "      <td>0.103299</td>\n",
              "      <td>0.098958</td>\n",
              "      <td>0.099826</td>\n",
              "      <td>0.062145</td>\n",
              "      <td>67766400</td>\n",
              "    </tr>\n",
              "    <tr>\n",
              "      <th>4</th>\n",
              "      <td>1986-03-19</td>\n",
              "      <td>0.099826</td>\n",
              "      <td>0.100694</td>\n",
              "      <td>0.097222</td>\n",
              "      <td>0.098090</td>\n",
              "      <td>0.061065</td>\n",
              "      <td>47894400</td>\n",
              "    </tr>\n",
              "    <tr>\n",
              "      <th>...</th>\n",
              "      <td>...</td>\n",
              "      <td>...</td>\n",
              "      <td>...</td>\n",
              "      <td>...</td>\n",
              "      <td>...</td>\n",
              "      <td>...</td>\n",
              "      <td>...</td>\n",
              "    </tr>\n",
              "    <tr>\n",
              "      <th>9415</th>\n",
              "      <td>2023-07-24</td>\n",
              "      <td>345.850006</td>\n",
              "      <td>346.920013</td>\n",
              "      <td>342.309998</td>\n",
              "      <td>345.109985</td>\n",
              "      <td>345.109985</td>\n",
              "      <td>26678100</td>\n",
              "    </tr>\n",
              "    <tr>\n",
              "      <th>9416</th>\n",
              "      <td>2023-07-25</td>\n",
              "      <td>347.109985</td>\n",
              "      <td>351.890015</td>\n",
              "      <td>345.070007</td>\n",
              "      <td>350.980011</td>\n",
              "      <td>350.980011</td>\n",
              "      <td>41637700</td>\n",
              "    </tr>\n",
              "    <tr>\n",
              "      <th>9417</th>\n",
              "      <td>2023-07-26</td>\n",
              "      <td>341.440002</td>\n",
              "      <td>344.670013</td>\n",
              "      <td>333.109985</td>\n",
              "      <td>337.769989</td>\n",
              "      <td>337.769989</td>\n",
              "      <td>58383700</td>\n",
              "    </tr>\n",
              "    <tr>\n",
              "      <th>9418</th>\n",
              "      <td>2023-07-27</td>\n",
              "      <td>340.480011</td>\n",
              "      <td>341.329987</td>\n",
              "      <td>329.049988</td>\n",
              "      <td>330.720001</td>\n",
              "      <td>330.720001</td>\n",
              "      <td>39635300</td>\n",
              "    </tr>\n",
              "    <tr>\n",
              "      <th>9419</th>\n",
              "      <td>2023-07-28</td>\n",
              "      <td>333.670013</td>\n",
              "      <td>340.010010</td>\n",
              "      <td>333.170013</td>\n",
              "      <td>338.369995</td>\n",
              "      <td>338.369995</td>\n",
              "      <td>28463000</td>\n",
              "    </tr>\n",
              "  </tbody>\n",
              "</table>\n",
              "<p>9420 rows × 7 columns</p>\n",
              "</div>\n",
              "      <button class=\"colab-df-convert\" onclick=\"convertToInteractive('df-13359e9f-2792-4ad8-9773-c1d7a64a6d47')\"\n",
              "              title=\"Convert this dataframe to an interactive table.\"\n",
              "              style=\"display:none;\">\n",
              "\n",
              "  <svg xmlns=\"http://www.w3.org/2000/svg\" height=\"24px\"viewBox=\"0 0 24 24\"\n",
              "       width=\"24px\">\n",
              "    <path d=\"M0 0h24v24H0V0z\" fill=\"none\"/>\n",
              "    <path d=\"M18.56 5.44l.94 2.06.94-2.06 2.06-.94-2.06-.94-.94-2.06-.94 2.06-2.06.94zm-11 1L8.5 8.5l.94-2.06 2.06-.94-2.06-.94L8.5 2.5l-.94 2.06-2.06.94zm10 10l.94 2.06.94-2.06 2.06-.94-2.06-.94-.94-2.06-.94 2.06-2.06.94z\"/><path d=\"M17.41 7.96l-1.37-1.37c-.4-.4-.92-.59-1.43-.59-.52 0-1.04.2-1.43.59L10.3 9.45l-7.72 7.72c-.78.78-.78 2.05 0 2.83L4 21.41c.39.39.9.59 1.41.59.51 0 1.02-.2 1.41-.59l7.78-7.78 2.81-2.81c.8-.78.8-2.07 0-2.86zM5.41 20L4 18.59l7.72-7.72 1.47 1.35L5.41 20z\"/>\n",
              "  </svg>\n",
              "      </button>\n",
              "\n",
              "\n",
              "\n",
              "    <div id=\"df-ed7d6e3a-d805-4b37-81b4-9783f167f75d\">\n",
              "      <button class=\"colab-df-quickchart\" onclick=\"quickchart('df-ed7d6e3a-d805-4b37-81b4-9783f167f75d')\"\n",
              "              title=\"Suggest charts.\"\n",
              "              style=\"display:none;\">\n",
              "\n",
              "<svg xmlns=\"http://www.w3.org/2000/svg\" height=\"24px\"viewBox=\"0 0 24 24\"\n",
              "     width=\"24px\">\n",
              "    <g>\n",
              "        <path d=\"M19 3H5c-1.1 0-2 .9-2 2v14c0 1.1.9 2 2 2h14c1.1 0 2-.9 2-2V5c0-1.1-.9-2-2-2zM9 17H7v-7h2v7zm4 0h-2V7h2v10zm4 0h-2v-4h2v4z\"/>\n",
              "    </g>\n",
              "</svg>\n",
              "      </button>\n",
              "    </div>\n",
              "\n",
              "<style>\n",
              "  .colab-df-quickchart {\n",
              "    background-color: #E8F0FE;\n",
              "    border: none;\n",
              "    border-radius: 50%;\n",
              "    cursor: pointer;\n",
              "    display: none;\n",
              "    fill: #1967D2;\n",
              "    height: 32px;\n",
              "    padding: 0 0 0 0;\n",
              "    width: 32px;\n",
              "  }\n",
              "\n",
              "  .colab-df-quickchart:hover {\n",
              "    background-color: #E2EBFA;\n",
              "    box-shadow: 0px 1px 2px rgba(60, 64, 67, 0.3), 0px 1px 3px 1px rgba(60, 64, 67, 0.15);\n",
              "    fill: #174EA6;\n",
              "  }\n",
              "\n",
              "  [theme=dark] .colab-df-quickchart {\n",
              "    background-color: #3B4455;\n",
              "    fill: #D2E3FC;\n",
              "  }\n",
              "\n",
              "  [theme=dark] .colab-df-quickchart:hover {\n",
              "    background-color: #434B5C;\n",
              "    box-shadow: 0px 1px 3px 1px rgba(0, 0, 0, 0.15);\n",
              "    filter: drop-shadow(0px 1px 2px rgba(0, 0, 0, 0.3));\n",
              "    fill: #FFFFFF;\n",
              "  }\n",
              "</style>\n",
              "\n",
              "    <script>\n",
              "      async function quickchart(key) {\n",
              "        const containerElement = document.querySelector('#' + key);\n",
              "        const charts = await google.colab.kernel.invokeFunction(\n",
              "            'suggestCharts', [key], {});\n",
              "      }\n",
              "    </script>\n",
              "\n",
              "      <script>\n",
              "\n",
              "function displayQuickchartButton(domScope) {\n",
              "  let quickchartButtonEl =\n",
              "    domScope.querySelector('#df-ed7d6e3a-d805-4b37-81b4-9783f167f75d button.colab-df-quickchart');\n",
              "  quickchartButtonEl.style.display =\n",
              "    google.colab.kernel.accessAllowed ? 'block' : 'none';\n",
              "}\n",
              "\n",
              "        displayQuickchartButton(document);\n",
              "      </script>\n",
              "      <style>\n",
              "    .colab-df-container {\n",
              "      display:flex;\n",
              "      flex-wrap:wrap;\n",
              "      gap: 12px;\n",
              "    }\n",
              "\n",
              "    .colab-df-convert {\n",
              "      background-color: #E8F0FE;\n",
              "      border: none;\n",
              "      border-radius: 50%;\n",
              "      cursor: pointer;\n",
              "      display: none;\n",
              "      fill: #1967D2;\n",
              "      height: 32px;\n",
              "      padding: 0 0 0 0;\n",
              "      width: 32px;\n",
              "    }\n",
              "\n",
              "    .colab-df-convert:hover {\n",
              "      background-color: #E2EBFA;\n",
              "      box-shadow: 0px 1px 2px rgba(60, 64, 67, 0.3), 0px 1px 3px 1px rgba(60, 64, 67, 0.15);\n",
              "      fill: #174EA6;\n",
              "    }\n",
              "\n",
              "    [theme=dark] .colab-df-convert {\n",
              "      background-color: #3B4455;\n",
              "      fill: #D2E3FC;\n",
              "    }\n",
              "\n",
              "    [theme=dark] .colab-df-convert:hover {\n",
              "      background-color: #434B5C;\n",
              "      box-shadow: 0px 1px 3px 1px rgba(0, 0, 0, 0.15);\n",
              "      filter: drop-shadow(0px 1px 2px rgba(0, 0, 0, 0.3));\n",
              "      fill: #FFFFFF;\n",
              "    }\n",
              "  </style>\n",
              "\n",
              "      <script>\n",
              "        const buttonEl =\n",
              "          document.querySelector('#df-13359e9f-2792-4ad8-9773-c1d7a64a6d47 button.colab-df-convert');\n",
              "        buttonEl.style.display =\n",
              "          google.colab.kernel.accessAllowed ? 'block' : 'none';\n",
              "\n",
              "        async function convertToInteractive(key) {\n",
              "          const element = document.querySelector('#df-13359e9f-2792-4ad8-9773-c1d7a64a6d47');\n",
              "          const dataTable =\n",
              "            await google.colab.kernel.invokeFunction('convertToInteractive',\n",
              "                                                     [key], {});\n",
              "          if (!dataTable) return;\n",
              "\n",
              "          const docLinkHtml = 'Like what you see? Visit the ' +\n",
              "            '<a target=\"_blank\" href=https://colab.research.google.com/notebooks/data_table.ipynb>data table notebook</a>'\n",
              "            + ' to learn more about interactive tables.';\n",
              "          element.innerHTML = '';\n",
              "          dataTable['output_type'] = 'display_data';\n",
              "          await google.colab.output.renderOutput(dataTable, element);\n",
              "          const docLink = document.createElement('div');\n",
              "          docLink.innerHTML = docLinkHtml;\n",
              "          element.appendChild(docLink);\n",
              "        }\n",
              "      </script>\n",
              "    </div>\n",
              "  </div>\n"
            ]
          },
          "metadata": {},
          "execution_count": 1
        }
      ]
    },
    {
      "cell_type": "code",
      "source": [
        "df.tail()"
      ],
      "metadata": {
        "id": "Q0iMRsg1SPX8",
        "outputId": "1f0fc6c5-53e7-4edb-de3e-a6c466e9603a",
        "colab": {
          "base_uri": "https://localhost:8080/",
          "height": 206
        }
      },
      "execution_count": null,
      "outputs": [
        {
          "output_type": "execute_result",
          "data": {
            "text/plain": [
              "            Date        Open        High         Low       Close   Adj Close  \\\n",
              "9415  2023-07-24  345.850006  346.920013  342.309998  345.109985  345.109985   \n",
              "9416  2023-07-25  347.109985  351.890015  345.070007  350.980011  350.980011   \n",
              "9417  2023-07-26  341.440002  344.670013  333.109985  337.769989  337.769989   \n",
              "9418  2023-07-27  340.480011  341.329987  329.049988  330.720001  330.720001   \n",
              "9419  2023-07-28  333.670013  340.010010  333.170013  338.369995  338.369995   \n",
              "\n",
              "        Volume  \n",
              "9415  26678100  \n",
              "9416  41637700  \n",
              "9417  58383700  \n",
              "9418  39635300  \n",
              "9419  28463000  "
            ],
            "text/html": [
              "\n",
              "\n",
              "  <div id=\"df-6f30d813-2edc-4822-b2f7-fd69df0cc0ab\">\n",
              "    <div class=\"colab-df-container\">\n",
              "      <div>\n",
              "<style scoped>\n",
              "    .dataframe tbody tr th:only-of-type {\n",
              "        vertical-align: middle;\n",
              "    }\n",
              "\n",
              "    .dataframe tbody tr th {\n",
              "        vertical-align: top;\n",
              "    }\n",
              "\n",
              "    .dataframe thead th {\n",
              "        text-align: right;\n",
              "    }\n",
              "</style>\n",
              "<table border=\"1\" class=\"dataframe\">\n",
              "  <thead>\n",
              "    <tr style=\"text-align: right;\">\n",
              "      <th></th>\n",
              "      <th>Date</th>\n",
              "      <th>Open</th>\n",
              "      <th>High</th>\n",
              "      <th>Low</th>\n",
              "      <th>Close</th>\n",
              "      <th>Adj Close</th>\n",
              "      <th>Volume</th>\n",
              "    </tr>\n",
              "  </thead>\n",
              "  <tbody>\n",
              "    <tr>\n",
              "      <th>9415</th>\n",
              "      <td>2023-07-24</td>\n",
              "      <td>345.850006</td>\n",
              "      <td>346.920013</td>\n",
              "      <td>342.309998</td>\n",
              "      <td>345.109985</td>\n",
              "      <td>345.109985</td>\n",
              "      <td>26678100</td>\n",
              "    </tr>\n",
              "    <tr>\n",
              "      <th>9416</th>\n",
              "      <td>2023-07-25</td>\n",
              "      <td>347.109985</td>\n",
              "      <td>351.890015</td>\n",
              "      <td>345.070007</td>\n",
              "      <td>350.980011</td>\n",
              "      <td>350.980011</td>\n",
              "      <td>41637700</td>\n",
              "    </tr>\n",
              "    <tr>\n",
              "      <th>9417</th>\n",
              "      <td>2023-07-26</td>\n",
              "      <td>341.440002</td>\n",
              "      <td>344.670013</td>\n",
              "      <td>333.109985</td>\n",
              "      <td>337.769989</td>\n",
              "      <td>337.769989</td>\n",
              "      <td>58383700</td>\n",
              "    </tr>\n",
              "    <tr>\n",
              "      <th>9418</th>\n",
              "      <td>2023-07-27</td>\n",
              "      <td>340.480011</td>\n",
              "      <td>341.329987</td>\n",
              "      <td>329.049988</td>\n",
              "      <td>330.720001</td>\n",
              "      <td>330.720001</td>\n",
              "      <td>39635300</td>\n",
              "    </tr>\n",
              "    <tr>\n",
              "      <th>9419</th>\n",
              "      <td>2023-07-28</td>\n",
              "      <td>333.670013</td>\n",
              "      <td>340.010010</td>\n",
              "      <td>333.170013</td>\n",
              "      <td>338.369995</td>\n",
              "      <td>338.369995</td>\n",
              "      <td>28463000</td>\n",
              "    </tr>\n",
              "  </tbody>\n",
              "</table>\n",
              "</div>\n",
              "      <button class=\"colab-df-convert\" onclick=\"convertToInteractive('df-6f30d813-2edc-4822-b2f7-fd69df0cc0ab')\"\n",
              "              title=\"Convert this dataframe to an interactive table.\"\n",
              "              style=\"display:none;\">\n",
              "\n",
              "  <svg xmlns=\"http://www.w3.org/2000/svg\" height=\"24px\"viewBox=\"0 0 24 24\"\n",
              "       width=\"24px\">\n",
              "    <path d=\"M0 0h24v24H0V0z\" fill=\"none\"/>\n",
              "    <path d=\"M18.56 5.44l.94 2.06.94-2.06 2.06-.94-2.06-.94-.94-2.06-.94 2.06-2.06.94zm-11 1L8.5 8.5l.94-2.06 2.06-.94-2.06-.94L8.5 2.5l-.94 2.06-2.06.94zm10 10l.94 2.06.94-2.06 2.06-.94-2.06-.94-.94-2.06-.94 2.06-2.06.94z\"/><path d=\"M17.41 7.96l-1.37-1.37c-.4-.4-.92-.59-1.43-.59-.52 0-1.04.2-1.43.59L10.3 9.45l-7.72 7.72c-.78.78-.78 2.05 0 2.83L4 21.41c.39.39.9.59 1.41.59.51 0 1.02-.2 1.41-.59l7.78-7.78 2.81-2.81c.8-.78.8-2.07 0-2.86zM5.41 20L4 18.59l7.72-7.72 1.47 1.35L5.41 20z\"/>\n",
              "  </svg>\n",
              "      </button>\n",
              "\n",
              "\n",
              "\n",
              "    <div id=\"df-d2e0b5fe-26d9-43cd-bc8a-d0742a7ecffa\">\n",
              "      <button class=\"colab-df-quickchart\" onclick=\"quickchart('df-d2e0b5fe-26d9-43cd-bc8a-d0742a7ecffa')\"\n",
              "              title=\"Suggest charts.\"\n",
              "              style=\"display:none;\">\n",
              "\n",
              "<svg xmlns=\"http://www.w3.org/2000/svg\" height=\"24px\"viewBox=\"0 0 24 24\"\n",
              "     width=\"24px\">\n",
              "    <g>\n",
              "        <path d=\"M19 3H5c-1.1 0-2 .9-2 2v14c0 1.1.9 2 2 2h14c1.1 0 2-.9 2-2V5c0-1.1-.9-2-2-2zM9 17H7v-7h2v7zm4 0h-2V7h2v10zm4 0h-2v-4h2v4z\"/>\n",
              "    </g>\n",
              "</svg>\n",
              "      </button>\n",
              "    </div>\n",
              "\n",
              "<style>\n",
              "  .colab-df-quickchart {\n",
              "    background-color: #E8F0FE;\n",
              "    border: none;\n",
              "    border-radius: 50%;\n",
              "    cursor: pointer;\n",
              "    display: none;\n",
              "    fill: #1967D2;\n",
              "    height: 32px;\n",
              "    padding: 0 0 0 0;\n",
              "    width: 32px;\n",
              "  }\n",
              "\n",
              "  .colab-df-quickchart:hover {\n",
              "    background-color: #E2EBFA;\n",
              "    box-shadow: 0px 1px 2px rgba(60, 64, 67, 0.3), 0px 1px 3px 1px rgba(60, 64, 67, 0.15);\n",
              "    fill: #174EA6;\n",
              "  }\n",
              "\n",
              "  [theme=dark] .colab-df-quickchart {\n",
              "    background-color: #3B4455;\n",
              "    fill: #D2E3FC;\n",
              "  }\n",
              "\n",
              "  [theme=dark] .colab-df-quickchart:hover {\n",
              "    background-color: #434B5C;\n",
              "    box-shadow: 0px 1px 3px 1px rgba(0, 0, 0, 0.15);\n",
              "    filter: drop-shadow(0px 1px 2px rgba(0, 0, 0, 0.3));\n",
              "    fill: #FFFFFF;\n",
              "  }\n",
              "</style>\n",
              "\n",
              "    <script>\n",
              "      async function quickchart(key) {\n",
              "        const containerElement = document.querySelector('#' + key);\n",
              "        const charts = await google.colab.kernel.invokeFunction(\n",
              "            'suggestCharts', [key], {});\n",
              "      }\n",
              "    </script>\n",
              "\n",
              "      <script>\n",
              "\n",
              "function displayQuickchartButton(domScope) {\n",
              "  let quickchartButtonEl =\n",
              "    domScope.querySelector('#df-d2e0b5fe-26d9-43cd-bc8a-d0742a7ecffa button.colab-df-quickchart');\n",
              "  quickchartButtonEl.style.display =\n",
              "    google.colab.kernel.accessAllowed ? 'block' : 'none';\n",
              "}\n",
              "\n",
              "        displayQuickchartButton(document);\n",
              "      </script>\n",
              "      <style>\n",
              "    .colab-df-container {\n",
              "      display:flex;\n",
              "      flex-wrap:wrap;\n",
              "      gap: 12px;\n",
              "    }\n",
              "\n",
              "    .colab-df-convert {\n",
              "      background-color: #E8F0FE;\n",
              "      border: none;\n",
              "      border-radius: 50%;\n",
              "      cursor: pointer;\n",
              "      display: none;\n",
              "      fill: #1967D2;\n",
              "      height: 32px;\n",
              "      padding: 0 0 0 0;\n",
              "      width: 32px;\n",
              "    }\n",
              "\n",
              "    .colab-df-convert:hover {\n",
              "      background-color: #E2EBFA;\n",
              "      box-shadow: 0px 1px 2px rgba(60, 64, 67, 0.3), 0px 1px 3px 1px rgba(60, 64, 67, 0.15);\n",
              "      fill: #174EA6;\n",
              "    }\n",
              "\n",
              "    [theme=dark] .colab-df-convert {\n",
              "      background-color: #3B4455;\n",
              "      fill: #D2E3FC;\n",
              "    }\n",
              "\n",
              "    [theme=dark] .colab-df-convert:hover {\n",
              "      background-color: #434B5C;\n",
              "      box-shadow: 0px 1px 3px 1px rgba(0, 0, 0, 0.15);\n",
              "      filter: drop-shadow(0px 1px 2px rgba(0, 0, 0, 0.3));\n",
              "      fill: #FFFFFF;\n",
              "    }\n",
              "  </style>\n",
              "\n",
              "      <script>\n",
              "        const buttonEl =\n",
              "          document.querySelector('#df-6f30d813-2edc-4822-b2f7-fd69df0cc0ab button.colab-df-convert');\n",
              "        buttonEl.style.display =\n",
              "          google.colab.kernel.accessAllowed ? 'block' : 'none';\n",
              "\n",
              "        async function convertToInteractive(key) {\n",
              "          const element = document.querySelector('#df-6f30d813-2edc-4822-b2f7-fd69df0cc0ab');\n",
              "          const dataTable =\n",
              "            await google.colab.kernel.invokeFunction('convertToInteractive',\n",
              "                                                     [key], {});\n",
              "          if (!dataTable) return;\n",
              "\n",
              "          const docLinkHtml = 'Like what you see? Visit the ' +\n",
              "            '<a target=\"_blank\" href=https://colab.research.google.com/notebooks/data_table.ipynb>data table notebook</a>'\n",
              "            + ' to learn more about interactive tables.';\n",
              "          element.innerHTML = '';\n",
              "          dataTable['output_type'] = 'display_data';\n",
              "          await google.colab.output.renderOutput(dataTable, element);\n",
              "          const docLink = document.createElement('div');\n",
              "          docLink.innerHTML = docLinkHtml;\n",
              "          element.appendChild(docLink);\n",
              "        }\n",
              "      </script>\n",
              "    </div>\n",
              "  </div>\n"
            ]
          },
          "metadata": {},
          "execution_count": 2
        }
      ]
    },
    {
      "cell_type": "code",
      "source": [
        "df.head()"
      ],
      "metadata": {
        "id": "_SsIQaeKSUMQ",
        "outputId": "9a747b88-7dde-4c3a-fbcd-3b13bde07347",
        "colab": {
          "base_uri": "https://localhost:8080/",
          "height": 206
        }
      },
      "execution_count": null,
      "outputs": [
        {
          "output_type": "execute_result",
          "data": {
            "text/plain": [
              "         Date      Open      High       Low     Close  Adj Close      Volume\n",
              "0  1986-03-13  0.088542  0.101563  0.088542  0.097222   0.060524  1031788800\n",
              "1  1986-03-14  0.097222  0.102431  0.097222  0.100694   0.062686   308160000\n",
              "2  1986-03-17  0.100694  0.103299  0.100694  0.102431   0.063767   133171200\n",
              "3  1986-03-18  0.102431  0.103299  0.098958  0.099826   0.062145    67766400\n",
              "4  1986-03-19  0.099826  0.100694  0.097222  0.098090   0.061065    47894400"
            ],
            "text/html": [
              "\n",
              "\n",
              "  <div id=\"df-22b302f8-4a22-4f98-97bb-3c46c8a077ff\">\n",
              "    <div class=\"colab-df-container\">\n",
              "      <div>\n",
              "<style scoped>\n",
              "    .dataframe tbody tr th:only-of-type {\n",
              "        vertical-align: middle;\n",
              "    }\n",
              "\n",
              "    .dataframe tbody tr th {\n",
              "        vertical-align: top;\n",
              "    }\n",
              "\n",
              "    .dataframe thead th {\n",
              "        text-align: right;\n",
              "    }\n",
              "</style>\n",
              "<table border=\"1\" class=\"dataframe\">\n",
              "  <thead>\n",
              "    <tr style=\"text-align: right;\">\n",
              "      <th></th>\n",
              "      <th>Date</th>\n",
              "      <th>Open</th>\n",
              "      <th>High</th>\n",
              "      <th>Low</th>\n",
              "      <th>Close</th>\n",
              "      <th>Adj Close</th>\n",
              "      <th>Volume</th>\n",
              "    </tr>\n",
              "  </thead>\n",
              "  <tbody>\n",
              "    <tr>\n",
              "      <th>0</th>\n",
              "      <td>1986-03-13</td>\n",
              "      <td>0.088542</td>\n",
              "      <td>0.101563</td>\n",
              "      <td>0.088542</td>\n",
              "      <td>0.097222</td>\n",
              "      <td>0.060524</td>\n",
              "      <td>1031788800</td>\n",
              "    </tr>\n",
              "    <tr>\n",
              "      <th>1</th>\n",
              "      <td>1986-03-14</td>\n",
              "      <td>0.097222</td>\n",
              "      <td>0.102431</td>\n",
              "      <td>0.097222</td>\n",
              "      <td>0.100694</td>\n",
              "      <td>0.062686</td>\n",
              "      <td>308160000</td>\n",
              "    </tr>\n",
              "    <tr>\n",
              "      <th>2</th>\n",
              "      <td>1986-03-17</td>\n",
              "      <td>0.100694</td>\n",
              "      <td>0.103299</td>\n",
              "      <td>0.100694</td>\n",
              "      <td>0.102431</td>\n",
              "      <td>0.063767</td>\n",
              "      <td>133171200</td>\n",
              "    </tr>\n",
              "    <tr>\n",
              "      <th>3</th>\n",
              "      <td>1986-03-18</td>\n",
              "      <td>0.102431</td>\n",
              "      <td>0.103299</td>\n",
              "      <td>0.098958</td>\n",
              "      <td>0.099826</td>\n",
              "      <td>0.062145</td>\n",
              "      <td>67766400</td>\n",
              "    </tr>\n",
              "    <tr>\n",
              "      <th>4</th>\n",
              "      <td>1986-03-19</td>\n",
              "      <td>0.099826</td>\n",
              "      <td>0.100694</td>\n",
              "      <td>0.097222</td>\n",
              "      <td>0.098090</td>\n",
              "      <td>0.061065</td>\n",
              "      <td>47894400</td>\n",
              "    </tr>\n",
              "  </tbody>\n",
              "</table>\n",
              "</div>\n",
              "      <button class=\"colab-df-convert\" onclick=\"convertToInteractive('df-22b302f8-4a22-4f98-97bb-3c46c8a077ff')\"\n",
              "              title=\"Convert this dataframe to an interactive table.\"\n",
              "              style=\"display:none;\">\n",
              "\n",
              "  <svg xmlns=\"http://www.w3.org/2000/svg\" height=\"24px\"viewBox=\"0 0 24 24\"\n",
              "       width=\"24px\">\n",
              "    <path d=\"M0 0h24v24H0V0z\" fill=\"none\"/>\n",
              "    <path d=\"M18.56 5.44l.94 2.06.94-2.06 2.06-.94-2.06-.94-.94-2.06-.94 2.06-2.06.94zm-11 1L8.5 8.5l.94-2.06 2.06-.94-2.06-.94L8.5 2.5l-.94 2.06-2.06.94zm10 10l.94 2.06.94-2.06 2.06-.94-2.06-.94-.94-2.06-.94 2.06-2.06.94z\"/><path d=\"M17.41 7.96l-1.37-1.37c-.4-.4-.92-.59-1.43-.59-.52 0-1.04.2-1.43.59L10.3 9.45l-7.72 7.72c-.78.78-.78 2.05 0 2.83L4 21.41c.39.39.9.59 1.41.59.51 0 1.02-.2 1.41-.59l7.78-7.78 2.81-2.81c.8-.78.8-2.07 0-2.86zM5.41 20L4 18.59l7.72-7.72 1.47 1.35L5.41 20z\"/>\n",
              "  </svg>\n",
              "      </button>\n",
              "\n",
              "\n",
              "\n",
              "    <div id=\"df-1070c4ac-9ddf-4694-8aee-d318afe2367f\">\n",
              "      <button class=\"colab-df-quickchart\" onclick=\"quickchart('df-1070c4ac-9ddf-4694-8aee-d318afe2367f')\"\n",
              "              title=\"Suggest charts.\"\n",
              "              style=\"display:none;\">\n",
              "\n",
              "<svg xmlns=\"http://www.w3.org/2000/svg\" height=\"24px\"viewBox=\"0 0 24 24\"\n",
              "     width=\"24px\">\n",
              "    <g>\n",
              "        <path d=\"M19 3H5c-1.1 0-2 .9-2 2v14c0 1.1.9 2 2 2h14c1.1 0 2-.9 2-2V5c0-1.1-.9-2-2-2zM9 17H7v-7h2v7zm4 0h-2V7h2v10zm4 0h-2v-4h2v4z\"/>\n",
              "    </g>\n",
              "</svg>\n",
              "      </button>\n",
              "    </div>\n",
              "\n",
              "<style>\n",
              "  .colab-df-quickchart {\n",
              "    background-color: #E8F0FE;\n",
              "    border: none;\n",
              "    border-radius: 50%;\n",
              "    cursor: pointer;\n",
              "    display: none;\n",
              "    fill: #1967D2;\n",
              "    height: 32px;\n",
              "    padding: 0 0 0 0;\n",
              "    width: 32px;\n",
              "  }\n",
              "\n",
              "  .colab-df-quickchart:hover {\n",
              "    background-color: #E2EBFA;\n",
              "    box-shadow: 0px 1px 2px rgba(60, 64, 67, 0.3), 0px 1px 3px 1px rgba(60, 64, 67, 0.15);\n",
              "    fill: #174EA6;\n",
              "  }\n",
              "\n",
              "  [theme=dark] .colab-df-quickchart {\n",
              "    background-color: #3B4455;\n",
              "    fill: #D2E3FC;\n",
              "  }\n",
              "\n",
              "  [theme=dark] .colab-df-quickchart:hover {\n",
              "    background-color: #434B5C;\n",
              "    box-shadow: 0px 1px 3px 1px rgba(0, 0, 0, 0.15);\n",
              "    filter: drop-shadow(0px 1px 2px rgba(0, 0, 0, 0.3));\n",
              "    fill: #FFFFFF;\n",
              "  }\n",
              "</style>\n",
              "\n",
              "    <script>\n",
              "      async function quickchart(key) {\n",
              "        const containerElement = document.querySelector('#' + key);\n",
              "        const charts = await google.colab.kernel.invokeFunction(\n",
              "            'suggestCharts', [key], {});\n",
              "      }\n",
              "    </script>\n",
              "\n",
              "      <script>\n",
              "\n",
              "function displayQuickchartButton(domScope) {\n",
              "  let quickchartButtonEl =\n",
              "    domScope.querySelector('#df-1070c4ac-9ddf-4694-8aee-d318afe2367f button.colab-df-quickchart');\n",
              "  quickchartButtonEl.style.display =\n",
              "    google.colab.kernel.accessAllowed ? 'block' : 'none';\n",
              "}\n",
              "\n",
              "        displayQuickchartButton(document);\n",
              "      </script>\n",
              "      <style>\n",
              "    .colab-df-container {\n",
              "      display:flex;\n",
              "      flex-wrap:wrap;\n",
              "      gap: 12px;\n",
              "    }\n",
              "\n",
              "    .colab-df-convert {\n",
              "      background-color: #E8F0FE;\n",
              "      border: none;\n",
              "      border-radius: 50%;\n",
              "      cursor: pointer;\n",
              "      display: none;\n",
              "      fill: #1967D2;\n",
              "      height: 32px;\n",
              "      padding: 0 0 0 0;\n",
              "      width: 32px;\n",
              "    }\n",
              "\n",
              "    .colab-df-convert:hover {\n",
              "      background-color: #E2EBFA;\n",
              "      box-shadow: 0px 1px 2px rgba(60, 64, 67, 0.3), 0px 1px 3px 1px rgba(60, 64, 67, 0.15);\n",
              "      fill: #174EA6;\n",
              "    }\n",
              "\n",
              "    [theme=dark] .colab-df-convert {\n",
              "      background-color: #3B4455;\n",
              "      fill: #D2E3FC;\n",
              "    }\n",
              "\n",
              "    [theme=dark] .colab-df-convert:hover {\n",
              "      background-color: #434B5C;\n",
              "      box-shadow: 0px 1px 3px 1px rgba(0, 0, 0, 0.15);\n",
              "      filter: drop-shadow(0px 1px 2px rgba(0, 0, 0, 0.3));\n",
              "      fill: #FFFFFF;\n",
              "    }\n",
              "  </style>\n",
              "\n",
              "      <script>\n",
              "        const buttonEl =\n",
              "          document.querySelector('#df-22b302f8-4a22-4f98-97bb-3c46c8a077ff button.colab-df-convert');\n",
              "        buttonEl.style.display =\n",
              "          google.colab.kernel.accessAllowed ? 'block' : 'none';\n",
              "\n",
              "        async function convertToInteractive(key) {\n",
              "          const element = document.querySelector('#df-22b302f8-4a22-4f98-97bb-3c46c8a077ff');\n",
              "          const dataTable =\n",
              "            await google.colab.kernel.invokeFunction('convertToInteractive',\n",
              "                                                     [key], {});\n",
              "          if (!dataTable) return;\n",
              "\n",
              "          const docLinkHtml = 'Like what you see? Visit the ' +\n",
              "            '<a target=\"_blank\" href=https://colab.research.google.com/notebooks/data_table.ipynb>data table notebook</a>'\n",
              "            + ' to learn more about interactive tables.';\n",
              "          element.innerHTML = '';\n",
              "          dataTable['output_type'] = 'display_data';\n",
              "          await google.colab.output.renderOutput(dataTable, element);\n",
              "          const docLink = document.createElement('div');\n",
              "          docLink.innerHTML = docLinkHtml;\n",
              "          element.appendChild(docLink);\n",
              "        }\n",
              "      </script>\n",
              "    </div>\n",
              "  </div>\n"
            ]
          },
          "metadata": {},
          "execution_count": 3
        }
      ]
    },
    {
      "cell_type": "code",
      "source": [
        "df1=df.reset_index()['Close']\n",
        "df1"
      ],
      "metadata": {
        "id": "YmxAs7F5SZfO",
        "outputId": "39239e3b-93a3-4750-8ed5-c9cccb41955c",
        "colab": {
          "base_uri": "https://localhost:8080/"
        }
      },
      "execution_count": null,
      "outputs": [
        {
          "output_type": "execute_result",
          "data": {
            "text/plain": [
              "0         0.097222\n",
              "1         0.100694\n",
              "2         0.102431\n",
              "3         0.099826\n",
              "4         0.098090\n",
              "           ...    \n",
              "9415    345.109985\n",
              "9416    350.980011\n",
              "9417    337.769989\n",
              "9418    330.720001\n",
              "9419    338.369995\n",
              "Name: Close, Length: 9420, dtype: float64"
            ]
          },
          "metadata": {},
          "execution_count": 4
        }
      ]
    },
    {
      "cell_type": "code",
      "source": [
        "import matplotlib.pyplot as plt\n",
        "plt.plot(df1)"
      ],
      "metadata": {
        "id": "CCL45ZviSc9t",
        "outputId": "9b074260-91f1-4f90-a261-e1a4cd63a553",
        "colab": {
          "base_uri": "https://localhost:8080/",
          "height": 447
        }
      },
      "execution_count": null,
      "outputs": [
        {
          "output_type": "execute_result",
          "data": {
            "text/plain": [
              "[<matplotlib.lines.Line2D at 0x7c6b0d976d10>]"
            ]
          },
          "metadata": {},
          "execution_count": 5
        },
        {
          "output_type": "display_data",
          "data": {
            "text/plain": [
              "<Figure size 640x480 with 1 Axes>"
            ],
            "image/png": "[encoded data removed]"
          },
          "metadata": {}
        }
      ]
    },
    {
      "cell_type": "code",
      "source": [
        "import numpy as np\n",
        "df1"
      ],
      "metadata": {
        "id": "N0OAOfhwSmEu",
        "outputId": "94bea77d-efb1-4919-ff75-f0760e029d4f",
        "colab": {
          "base_uri": "https://localhost:8080/"
        }
      },
      "execution_count": null,
      "outputs": [
        {
          "output_type": "execute_result",
          "data": {
            "text/plain": [
              "0         0.097222\n",
              "1         0.100694\n",
              "2         0.102431\n",
              "3         0.099826\n",
              "4         0.098090\n",
              "           ...    \n",
              "9415    345.109985\n",
              "9416    350.980011\n",
              "9417    337.769989\n",
              "9418    330.720001\n",
              "9419    338.369995\n",
              "Name: Close, Length: 9420, dtype: float64"
            ]
          },
          "metadata": {},
          "execution_count": 6
        }
      ]
    },
    {
      "cell_type": "code",
      "source": [
        "from sklearn.preprocessing import MinMaxScaler\n",
        "scaler=MinMaxScaler(feature_range=(0,1))\n",
        "df1=scaler.fit_transform(np.array(df1).reshape(-1,1))\n",
        "print(df1)"
      ],
      "metadata": {
        "id": "zSJvSUL9SrZA",
        "outputId": "cfec28ba-6cda-4b30-88e5-bcc1d3a4f2e6",
        "colab": {
          "base_uri": "https://localhost:8080/"
        }
      },
      "execution_count": null,
      "outputs": [
        {
          "output_type": "stream",
          "name": "stdout",
          "text": [
            "[[1.93211062e-05]\n",
            " [2.89816593e-05]\n",
            " [3.38147182e-05]\n",
            " ...\n",
            " [9.39565892e-01]\n",
            " [9.19949883e-01]\n",
            " [9.41235359e-01]]\n"
          ]
        }
      ]
    },
    {
      "cell_type": "code",
      "source": [
        "size=int(len(df1)*0.65)\n",
        "test_size=len(df1)-size\n",
        "data,test_data=df1[0:size,:],df1[size:len(df1),:1]\n",
        "size,test_size"
      ],
      "metadata": {
        "id": "1jt2qUqPSuBK",
        "outputId": "c5ca54e1-dddd-419c-eb6a-548a28073c27",
        "colab": {
          "base_uri": "https://localhost:8080/"
        }
      },
      "execution_count": null,
      "outputs": [
        {
          "output_type": "execute_result",
          "data": {
            "text/plain": [
              "(6123, 3297)"
            ]
          },
          "metadata": {},
          "execution_count": 8
        }
      ]
    },
    {
      "cell_type": "code",
      "source": [
        "data"
      ],
      "metadata": {
        "id": "qa7rGc4fSw6q",
        "outputId": "52963329-1d05-45c0-f979-2825acd75a29",
        "colab": {
          "base_uri": "https://localhost:8080/"
        }
      },
      "execution_count": null,
      "outputs": [
        {
          "output_type": "execute_result",
          "data": {
            "text/plain": [
              "array([[1.93211062e-05],\n",
              "       [2.89816593e-05],\n",
              "       [3.38147182e-05],\n",
              "       ...,\n",
              "       [7.33159269e-02],\n",
              "       [7.19525424e-02],\n",
              "       [7.14517044e-02]])"
            ]
          },
          "metadata": {},
          "execution_count": 9
        }
      ]
    },
    {
      "cell_type": "code",
      "source": [
        "import numpy\n",
        "def create_dataset(dataset, step=1):\n",
        "    dataA, dataB = [], []\n",
        "    for i in range(len(dataset)-step-1):\n",
        "        a = dataset[i:(i+step), 0]\n",
        "        dataA.append(a)\n",
        "        dataB.append(dataset[i + step, 0])\n",
        "    return numpy.array(dataA), numpy.array(dataB)"
      ],
      "metadata": {
        "id": "TvAWl00TS2oP"
      },
      "execution_count": null,
      "outputs": []
    },
    {
      "cell_type": "code",
      "source": [
        "step=100\n",
        "A_train,b_train=create_dataset(data,step)\n",
        "A_test,b_test=create_dataset(test_data,step)\n",
        "print(A_train.shape),print(b_train.shape)"
      ],
      "metadata": {
        "id": "9CqyRr9OS6LM",
        "outputId": "7c8b52f3-e742-4fc4-9691-aeb3ac4dcd62",
        "colab": {
          "base_uri": "https://localhost:8080/"
        }
      },
      "execution_count": null,
      "outputs": [
        {
          "output_type": "stream",
          "name": "stdout",
          "text": [
            "(6022, 100)\n",
            "(6022,)\n"
          ]
        },
        {
          "output_type": "execute_result",
          "data": {
            "text/plain": [
              "(None, None)"
            ]
          },
          "metadata": {},
          "execution_count": 11
        }
      ]
    },
    {
      "cell_type": "code",
      "source": [
        "print(A_test.shape),print(b_test.shape)"
      ],
      "metadata": {
        "id": "6kLEc_-IS9xL",
        "outputId": "2fc36f29-76e2-4f95-d0ac-2fee014e62b2",
        "colab": {
          "base_uri": "https://localhost:8080/"
        }
      },
      "execution_count": null,
      "outputs": [
        {
          "output_type": "stream",
          "name": "stdout",
          "text": [
            "(3196, 100)\n",
            "(3196,)\n"
          ]
        },
        {
          "output_type": "execute_result",
          "data": {
            "text/plain": [
              "(None, None)"
            ]
          },
          "metadata": {},
          "execution_count": 12
        }
      ]
    },
    {
      "cell_type": "code",
      "source": [
        "A_train=A_train.reshape(A_train.shape[0],A_train.shape[1],1)\n",
        "A_test=A_test.reshape(A_test.shape[0],A_test.shape[1],1)"
      ],
      "metadata": {
        "id": "q38ArEA_TDSt"
      },
      "execution_count": null,
      "outputs": []
    },
    {
      "cell_type": "code",
      "source": [
        "from tensorflow.keras.models import Sequential\n",
        "from tensorflow.keras.layers import Dense\n",
        "from tensorflow.keras.layers import LSTM"
      ],
      "metadata": {
        "id": "9JxaheSCTFOh"
      },
      "execution_count": null,
      "outputs": []
    },
    {
      "cell_type": "code",
      "source": [
        "model=Sequential()\n",
        "model.add(LSTM(50,return_sequences=True,input_shape=(100,1)))\n",
        "model.add(LSTM(50,return_sequences=True))\n",
        "model.add(LSTM(50))\n",
        "model.add(Dense(1))\n",
        "model.compile(loss='mean_squared_error',optimizer='adam')"
      ],
      "metadata": {
        "id": "RkKGeDWaTJtH"
      },
      "execution_count": null,
      "outputs": []
    },
    {
      "cell_type": "code",
      "source": [
        "model.summary()"
      ],
      "metadata": {
        "id": "ENx4RZYjTN2Z",
        "outputId": "8e2185c0-7d9a-45d9-915e-59246ccd6a67",
        "colab": {
          "base_uri": "https://localhost:8080/"
        }
      },
      "execution_count": null,
      "outputs": [
        {
          "output_type": "stream",
          "name": "stdout",
          "text": [
            "Model: \"sequential\"\n",
            "_________________________________________________________________\n",
            " Layer (type)                Output Shape              Param #   \n",
            "=================================================================\n",
            " lstm (LSTM)                 (None, 100, 50)           10400     \n",
            "                                                                 \n",
            " lstm_1 (LSTM)               (None, 100, 50)           20200     \n",
            "                                                                 \n",
            " lstm_2 (LSTM)               (None, 50)                20200     \n",
            "                                                                 \n",
            " dense (Dense)               (None, 1)                 51        \n",
            "                                                                 \n",
            "=================================================================\n",
            "Total params: 50,851\n",
            "Trainable params: 50,851\n",
            "Non-trainable params: 0\n",
            "_________________________________________________________________\n"
          ]
        }
      ]
    },
    {
      "cell_type": "code",
      "source": [
        "model.summary()"
      ],
      "metadata": {
        "id": "38ex327LTTXZ",
        "outputId": "49b81906-aa3e-4134-d843-d6e0c508fddc",
        "colab": {
          "base_uri": "https://localhost:8080/"
        }
      },
      "execution_count": null,
      "outputs": [
        {
          "output_type": "stream",
          "name": "stdout",
          "text": [
            "Model: \"sequential\"\n",
            "_________________________________________________________________\n",
            " Layer (type)                Output Shape              Param #   \n",
            "=================================================================\n",
            " lstm (LSTM)                 (None, 100, 50)           10400     \n",
            "                                                                 \n",
            " lstm_1 (LSTM)               (None, 100, 50)           20200     \n",
            "                                                                 \n",
            " lstm_2 (LSTM)               (None, 50)                20200     \n",
            "                                                                 \n",
            " dense (Dense)               (None, 1)                 51        \n",
            "                                                                 \n",
            "=================================================================\n",
            "Total params: 50,851\n",
            "Trainable params: 50,851\n",
            "Non-trainable params: 0\n",
            "_________________________________________________________________\n"
          ]
        }
      ]
    },
    {
      "cell_type": "code",
      "source": [
        "model.fit(A_train,b_train,validation_data=(A_test,b_test),epochs=100,batch_size=64,verbose=1)"
      ],
      "metadata": {
        "id": "wWK5W9jZTYNw",
        "outputId": "ac926350-fc76-4de2-a42b-763bd1e4ae14",
        "colab": {
          "base_uri": "https://localhost:8080/"
        }
      },
      "execution_count": null,
      "outputs": [
        {
          "output_type": "stream",
          "name": "stdout",
          "text": [
            "Epoch 1/100\n",
            "95/95 [==============================] - 32s 263ms/step - loss: 1.2895e-04 - val_loss: 0.0037\n",
            "Epoch 2/100\n",
            "95/95 [==============================] - 25s 261ms/step - loss: 1.5305e-05 - val_loss: 0.0044\n",
            "Epoch 3/100\n",
            "95/95 [==============================] - 25s 264ms/step - loss: 1.4319e-05 - val_loss: 0.0044\n",
            "Epoch 4/100\n",
            "95/95 [==============================] - 24s 254ms/step - loss: 1.3567e-05 - val_loss: 0.0036\n",
            "Epoch 5/100\n",
            "95/95 [==============================] - 24s 255ms/step - loss: 1.2524e-05 - val_loss: 0.0013\n",
            "Epoch 6/100\n",
            "95/95 [==============================] - 24s 253ms/step - loss: 1.5417e-05 - val_loss: 0.0036\n",
            "Epoch 7/100\n",
            "95/95 [==============================] - 24s 250ms/step - loss: 1.1123e-05 - val_loss: 0.0046\n",
            "Epoch 8/100\n",
            "95/95 [==============================] - 24s 253ms/step - loss: 1.0311e-05 - val_loss: 0.0034\n",
            "Epoch 9/100\n",
            "95/95 [==============================] - 24s 248ms/step - loss: 9.5891e-06 - val_loss: 0.0032\n",
            "Epoch 10/100\n",
            "95/95 [==============================] - 23s 237ms/step - loss: 1.0534e-05 - val_loss: 0.0045\n",
            "Epoch 11/100\n",
            "95/95 [==============================] - 24s 249ms/step - loss: 8.5713e-06 - val_loss: 0.0034\n",
            "Epoch 12/100\n",
            "95/95 [==============================] - 24s 251ms/step - loss: 9.7181e-06 - val_loss: 0.0022\n",
            "Epoch 13/100\n",
            "95/95 [==============================] - 24s 252ms/step - loss: 8.2546e-06 - val_loss: 0.0033\n",
            "Epoch 14/100\n",
            "95/95 [==============================] - 23s 246ms/step - loss: 8.0026e-06 - val_loss: 0.0028\n",
            "Epoch 15/100\n",
            "95/95 [==============================] - 24s 256ms/step - loss: 8.5061e-06 - val_loss: 0.0038\n",
            "Epoch 16/100\n",
            "95/95 [==============================] - 23s 241ms/step - loss: 8.1903e-06 - val_loss: 0.0033\n",
            "Epoch 17/100\n",
            "95/95 [==============================] - 24s 250ms/step - loss: 7.2377e-06 - val_loss: 0.0030\n",
            "Epoch 18/100\n",
            "95/95 [==============================] - 24s 258ms/step - loss: 7.4377e-06 - val_loss: 0.0053\n",
            "Epoch 19/100\n",
            "95/95 [==============================] - 24s 251ms/step - loss: 8.8947e-06 - val_loss: 0.0023\n",
            "Epoch 20/100\n",
            "95/95 [==============================] - 23s 246ms/step - loss: 7.2885e-06 - val_loss: 0.0022\n",
            "Epoch 21/100\n",
            "95/95 [==============================] - 23s 239ms/step - loss: 7.1604e-06 - val_loss: 9.1758e-04\n",
            "Epoch 22/100\n",
            "95/95 [==============================] - 24s 249ms/step - loss: 9.4516e-06 - val_loss: 0.0022\n",
            "Epoch 23/100\n",
            "95/95 [==============================] - 24s 252ms/step - loss: 6.2319e-06 - val_loss: 0.0024\n",
            "Epoch 24/100\n",
            "95/95 [==============================] - 24s 254ms/step - loss: 5.9058e-06 - val_loss: 0.0019\n",
            "Epoch 25/100\n",
            "95/95 [==============================] - 25s 261ms/step - loss: 6.4779e-06 - val_loss: 0.0024\n",
            "Epoch 26/100\n",
            "95/95 [==============================] - 24s 249ms/step - loss: 7.0474e-06 - val_loss: 0.0027\n",
            "Epoch 27/100\n",
            "95/95 [==============================] - 23s 237ms/step - loss: 5.7133e-06 - val_loss: 0.0019\n",
            "Epoch 28/100\n",
            "95/95 [==============================] - 24s 249ms/step - loss: 5.4341e-06 - val_loss: 0.0021\n",
            "Epoch 29/100\n",
            "95/95 [==============================] - 24s 250ms/step - loss: 4.9899e-06 - val_loss: 0.0018\n",
            "Epoch 30/100\n",
            "95/95 [==============================] - 24s 250ms/step - loss: 5.5356e-06 - val_loss: 0.0019\n",
            "Epoch 31/100\n",
            "95/95 [==============================] - 23s 247ms/step - loss: 5.1659e-06 - val_loss: 0.0013\n",
            "Epoch 32/100\n",
            "95/95 [==============================] - 24s 258ms/step - loss: 4.8410e-06 - val_loss: 0.0011\n",
            "Epoch 33/100\n",
            "95/95 [==============================] - 23s 238ms/step - loss: 5.0978e-06 - val_loss: 0.0011\n",
            "Epoch 34/100\n",
            "95/95 [==============================] - 24s 248ms/step - loss: 5.0837e-06 - val_loss: 0.0017\n",
            "Epoch 35/100\n",
            "95/95 [==============================] - 24s 255ms/step - loss: 5.2180e-06 - val_loss: 0.0012\n",
            "Epoch 36/100\n",
            "95/95 [==============================] - 25s 262ms/step - loss: 4.6088e-06 - val_loss: 9.2893e-04\n",
            "Epoch 37/100\n",
            "95/95 [==============================] - 24s 250ms/step - loss: 4.2926e-06 - val_loss: 9.7173e-04\n",
            "Epoch 38/100\n",
            "95/95 [==============================] - 25s 259ms/step - loss: 4.4173e-06 - val_loss: 7.9621e-04\n",
            "Epoch 39/100\n",
            "95/95 [==============================] - 23s 239ms/step - loss: 4.6186e-06 - val_loss: 0.0014\n",
            "Epoch 40/100\n",
            "95/95 [==============================] - 24s 249ms/step - loss: 4.2847e-06 - val_loss: 6.8540e-04\n",
            "Epoch 41/100\n",
            "95/95 [==============================] - 24s 251ms/step - loss: 3.8764e-06 - val_loss: 6.5528e-04\n",
            "Epoch 42/100\n",
            "95/95 [==============================] - 24s 253ms/step - loss: 3.8423e-06 - val_loss: 0.0010\n",
            "Epoch 43/100\n",
            "95/95 [==============================] - 24s 250ms/step - loss: 3.6884e-06 - val_loss: 0.0012\n",
            "Epoch 44/100\n",
            "95/95 [==============================] - 25s 259ms/step - loss: 3.4831e-06 - val_loss: 3.9734e-04\n",
            "Epoch 45/100\n",
            "95/95 [==============================] - 25s 259ms/step - loss: 3.9810e-06 - val_loss: 0.0011\n",
            "Epoch 46/100\n",
            "95/95 [==============================] - 25s 260ms/step - loss: 3.3875e-06 - val_loss: 0.0013\n",
            "Epoch 47/100\n",
            "95/95 [==============================] - 24s 252ms/step - loss: 3.6038e-06 - val_loss: 7.2364e-04\n",
            "Epoch 48/100\n",
            "95/95 [==============================] - 24s 250ms/step - loss: 3.6278e-06 - val_loss: 4.4383e-04\n",
            "Epoch 49/100\n",
            "95/95 [==============================] - 26s 272ms/step - loss: 3.4109e-06 - val_loss: 6.0954e-04\n",
            "Epoch 50/100\n",
            "95/95 [==============================] - 24s 252ms/step - loss: 3.0435e-06 - val_loss: 0.0010\n",
            "Epoch 51/100\n",
            "95/95 [==============================] - 23s 248ms/step - loss: 3.5191e-06 - val_loss: 5.2039e-04\n",
            "Epoch 52/100\n",
            "95/95 [==============================] - 30s 317ms/step - loss: 3.0743e-06 - val_loss: 6.3040e-04\n",
            "Epoch 53/100\n",
            "95/95 [==============================] - 32s 336ms/step - loss: 3.1761e-06 - val_loss: 4.8101e-04\n",
            "Epoch 54/100\n",
            "95/95 [==============================] - 23s 243ms/step - loss: 3.7082e-06 - val_loss: 6.6604e-04\n",
            "Epoch 55/100\n",
            "95/95 [==============================] - 24s 251ms/step - loss: 2.9408e-06 - val_loss: 6.9630e-04\n",
            "Epoch 56/100\n",
            "95/95 [==============================] - 34s 358ms/step - loss: 3.4179e-06 - val_loss: 4.3877e-04\n",
            "Epoch 57/100\n",
            "95/95 [==============================] - 33s 349ms/step - loss: 2.7402e-06 - val_loss: 4.6623e-04\n",
            "Epoch 58/100\n",
            "95/95 [==============================] - 27s 280ms/step - loss: 2.6818e-06 - val_loss: 4.6844e-04\n",
            "Epoch 59/100\n",
            "95/95 [==============================] - 37s 392ms/step - loss: 2.8761e-06 - val_loss: 4.3200e-04\n",
            "Epoch 60/100\n",
            "95/95 [==============================] - 40s 420ms/step - loss: 2.9390e-06 - val_loss: 6.7936e-04\n",
            "Epoch 61/100\n",
            "95/95 [==============================] - 26s 274ms/step - loss: 2.7655e-06 - val_loss: 4.1537e-04\n",
            "Epoch 62/100\n",
            "95/95 [==============================] - 25s 260ms/step - loss: 2.7953e-06 - val_loss: 4.9768e-04\n",
            "Epoch 63/100\n",
            "95/95 [==============================] - 38s 404ms/step - loss: 2.5993e-06 - val_loss: 6.0615e-04\n",
            "Epoch 64/100\n",
            "95/95 [==============================] - 25s 263ms/step - loss: 2.4598e-06 - val_loss: 7.0785e-04\n",
            "Epoch 65/100\n",
            "95/95 [==============================] - 25s 260ms/step - loss: 2.5473e-06 - val_loss: 3.1254e-04\n",
            "Epoch 66/100\n",
            "95/95 [==============================] - 25s 260ms/step - loss: 2.8961e-06 - val_loss: 3.4289e-04\n",
            "Epoch 67/100\n",
            "95/95 [==============================] - 31s 324ms/step - loss: 2.9993e-06 - val_loss: 5.0726e-04\n",
            "Epoch 68/100\n",
            "95/95 [==============================] - 33s 351ms/step - loss: 2.7662e-06 - val_loss: 1.8770e-04\n",
            "Epoch 69/100\n",
            "95/95 [==============================] - 23s 240ms/step - loss: 2.8871e-06 - val_loss: 4.5394e-04\n",
            "Epoch 70/100\n",
            "95/95 [==============================] - 24s 251ms/step - loss: 2.4155e-06 - val_loss: 5.6364e-04\n",
            "Epoch 71/100\n",
            "95/95 [==============================] - 26s 272ms/step - loss: 3.0296e-06 - val_loss: 1.7193e-04\n",
            "Epoch 72/100\n",
            "95/95 [==============================] - 24s 251ms/step - loss: 2.8499e-06 - val_loss: 2.7969e-04\n",
            "Epoch 73/100\n",
            "95/95 [==============================] - 24s 249ms/step - loss: 2.6196e-06 - val_loss: 3.6704e-04\n",
            "Epoch 74/100\n",
            "95/95 [==============================] - 23s 246ms/step - loss: 2.8668e-06 - val_loss: 1.5144e-04\n",
            "Epoch 75/100\n",
            "95/95 [==============================] - 24s 255ms/step - loss: 3.6459e-06 - val_loss: 1.7053e-04\n",
            "Epoch 76/100\n",
            "95/95 [==============================] - 23s 244ms/step - loss: 2.3596e-06 - val_loss: 3.4014e-04\n",
            "Epoch 77/100\n",
            "95/95 [==============================] - 26s 273ms/step - loss: 2.4927e-06 - val_loss: 3.4141e-04\n",
            "Epoch 78/100\n",
            "95/95 [==============================] - 24s 254ms/step - loss: 2.3908e-06 - val_loss: 4.2732e-04\n",
            "Epoch 79/100\n",
            "95/95 [==============================] - 24s 256ms/step - loss: 2.5468e-06 - val_loss: 4.7037e-04\n",
            "Epoch 80/100\n",
            "95/95 [==============================] - 24s 253ms/step - loss: 2.4240e-06 - val_loss: 2.1794e-04\n",
            "Epoch 81/100\n",
            "95/95 [==============================] - 24s 248ms/step - loss: 2.7485e-06 - val_loss: 8.0026e-04\n",
            "Epoch 82/100\n",
            "95/95 [==============================] - 25s 260ms/step - loss: 3.2564e-06 - val_loss: 3.6761e-04\n",
            "Epoch 83/100\n",
            "95/95 [==============================] - 23s 239ms/step - loss: 2.8777e-06 - val_loss: 4.8236e-04\n",
            "Epoch 84/100\n",
            "95/95 [==============================] - 24s 249ms/step - loss: 2.3053e-06 - val_loss: 4.7872e-04\n",
            "Epoch 85/100\n",
            "95/95 [==============================] - 26s 273ms/step - loss: 2.6892e-06 - val_loss: 2.6199e-04\n",
            "Epoch 86/100\n",
            "95/95 [==============================] - 25s 268ms/step - loss: 3.0326e-06 - val_loss: 6.6877e-04\n",
            "Epoch 87/100\n",
            "95/95 [==============================] - 24s 253ms/step - loss: 2.5335e-06 - val_loss: 4.2882e-04\n",
            "Epoch 88/100\n",
            "95/95 [==============================] - 24s 253ms/step - loss: 2.9028e-06 - val_loss: 5.6204e-04\n",
            "Epoch 89/100\n",
            "95/95 [==============================] - 24s 248ms/step - loss: 2.4534e-06 - val_loss: 6.1575e-04\n",
            "Epoch 90/100\n",
            "95/95 [==============================] - 25s 266ms/step - loss: 2.5986e-06 - val_loss: 6.6409e-04\n",
            "Epoch 91/100\n",
            "95/95 [==============================] - 25s 262ms/step - loss: 3.2761e-06 - val_loss: 9.1106e-04\n",
            "Epoch 92/100\n",
            "95/95 [==============================] - 25s 260ms/step - loss: 2.5447e-06 - val_loss: 6.0879e-04\n",
            "Epoch 93/100\n",
            "95/95 [==============================] - 23s 238ms/step - loss: 2.4961e-06 - val_loss: 7.0097e-04\n",
            "Epoch 94/100\n",
            "95/95 [==============================] - 24s 250ms/step - loss: 2.6169e-06 - val_loss: 4.8102e-04\n",
            "Epoch 95/100\n",
            "95/95 [==============================] - 24s 252ms/step - loss: 2.4999e-06 - val_loss: 3.9379e-04\n",
            "Epoch 96/100\n",
            "95/95 [==============================] - 26s 275ms/step - loss: 2.5765e-06 - val_loss: 6.9076e-04\n",
            "Epoch 97/100\n",
            "95/95 [==============================] - 25s 260ms/step - loss: 3.1716e-06 - val_loss: 6.2345e-04\n",
            "Epoch 98/100\n",
            "95/95 [==============================] - 24s 256ms/step - loss: 2.6992e-06 - val_loss: 6.2281e-04\n",
            "Epoch 99/100\n",
            "95/95 [==============================] - 23s 246ms/step - loss: 2.3646e-06 - val_loss: 7.2558e-04\n",
            "Epoch 100/100\n",
            "95/95 [==============================] - 23s 238ms/step - loss: 2.6361e-06 - val_loss: 0.0010\n"
          ]
        },
        {
          "output_type": "execute_result",
          "data": {
            "text/plain": [
              "<keras.callbacks.History at 0x7c6aa930a860>"
            ]
          },
          "metadata": {},
          "execution_count": 18
        }
      ]
    },
    {
      "cell_type": "code",
      "source": [
        "import tensorflow as tf"
      ],
      "metadata": {
        "id": "jyjle1dGX5MG"
      },
      "execution_count": null,
      "outputs": []
    },
    {
      "cell_type": "code",
      "source": [
        "tf.__version__"
      ],
      "metadata": {
        "id": "APyT9o03YOfa",
        "outputId": "a15ee482-f264-4ce1-8938-fb008d9ebd47",
        "colab": {
          "base_uri": "https://localhost:8080/",
          "height": 36
        }
      },
      "execution_count": null,
      "outputs": [
        {
          "output_type": "execute_result",
          "data": {
            "text/plain": [
              "'2.12.0'"
            ],
            "application/vnd.google.colaboratory.intrinsic+json": {
              "type": "string"
            }
          },
          "metadata": {},
          "execution_count": 20
        }
      ]
    },
    {
      "cell_type": "code",
      "source": [
        "train_predict=model.predict(A_train)\n",
        "test_predict=model.predict(A_test)"
      ],
      "metadata": {
        "id": "U1lxm5koYhku",
        "outputId": "25957806-b124-485f-c881-5e3ad108bdc9",
        "colab": {
          "base_uri": "https://localhost:8080/"
        }
      },
      "execution_count": null,
      "outputs": [
        {
          "output_type": "stream",
          "name": "stdout",
          "text": [
            "189/189 [==============================] - 11s 50ms/step\n",
            "100/100 [==============================] - 4s 43ms/step\n"
          ]
        }
      ]
    },
    {
      "cell_type": "code",
      "source": [
        "import math\n",
        "from sklearn.metrics import mean_squared_error\n",
        "math.sqrt(mean_squared_error(b_train,train_predict))"
      ],
      "metadata": {
        "id": "Hbzt4pNsYzLO",
        "outputId": "01a735c2-7915-49b3-af17-1db2c0863e81",
        "colab": {
          "base_uri": "https://localhost:8080/"
        }
      },
      "execution_count": null,
      "outputs": [
        {
          "output_type": "execute_result",
          "data": {
            "text/plain": [
              "0.0024214186040130183"
            ]
          },
          "metadata": {},
          "execution_count": 23
        }
      ]
    },
    {
      "cell_type": "code",
      "source": [
        "math.sqrt(mean_squared_error(b_test,test_predict))"
      ],
      "metadata": {
        "id": "TXB9ATU5ZUtJ",
        "outputId": "21271c30-3a9f-48b5-fb2b-eafbc8d70ac2",
        "colab": {
          "base_uri": "https://localhost:8080/"
        }
      },
      "execution_count": null,
      "outputs": [
        {
          "output_type": "execute_result",
          "data": {
            "text/plain": [
              "0.032284835138698634"
            ]
          },
          "metadata": {},
          "execution_count": 24
        }
      ]
    },
    {
      "cell_type": "code",
      "source": [
        "back=100\n",
        "trainPredictPlot=numpy.empty_like(df1)\n",
        "trainPredictPlot[:,:]=np.nan\n",
        "trainPredictPlot[back:len(train_predict)+back,:]=train_predict\n",
        "testPredictPlot = numpy.empty_like(df1)\n",
        "testPredictPlot[:, :] = numpy.nan\n",
        "testPredictPlot[len(train_predict)+(back*2)+1:len(df1)-1, :] = test_predict\n",
        "plt.plot(scaler.inverse_transform(df1))\n",
        "plt.plot(trainPredictPlot)\n",
        "plt.plot(testPredictPlot)\n",
        "plt.show()"
      ],
      "metadata": {
        "id": "sp9ySH8JZfT_",
        "outputId": "4c8fec15-e16b-41f0-ba26-71d3e923ee8c",
        "colab": {
          "base_uri": "https://localhost:8080/",
          "height": 430
        }
      },
      "execution_count": null,
      "outputs": [
        {
          "output_type": "display_data",
          "data": {
            "text/plain": [
              "<Figure size 640x480 with 1 Axes>"
            ],
            "image/png": "[encoded data removed]"
          },
          "metadata": {}
        }
      ]
    },
    {
      "cell_type": "code",
      "source": [
        "len(test_data)"
      ],
      "metadata": {
        "id": "ZETesSkInQGU",
        "outputId": "90562741-bf02-459d-e41a-78b54d62d714",
        "colab": {
          "base_uri": "https://localhost:8080/"
        }
      },
      "execution_count": null,
      "outputs": [
        {
          "output_type": "execute_result",
          "data": {
            "text/plain": [
              "3297"
            ]
          },
          "metadata": {},
          "execution_count": 28
        }
      ]
    },
    {
      "cell_type": "code",
      "source": [
        "A_input=test_data[3197:].reshape(1,-1)\n",
        "A_input.shape"
      ],
      "metadata": {
        "id": "VE0lmFbLnWtR",
        "outputId": "1a7da1ca-9853-4fe6-e122-839c04bcdb1b",
        "colab": {
          "base_uri": "https://localhost:8080/"
        }
      },
      "execution_count": null,
      "outputs": [
        {
          "output_type": "execute_result",
          "data": {
            "text/plain": [
              "(1, 100)"
            ]
          },
          "metadata": {},
          "execution_count": 29
        }
      ]
    },
    {
      "cell_type": "code",
      "source": [
        "input=list(A_input)\n",
        "input=input[0].tolist()"
      ],
      "metadata": {
        "id": "SgZTjbp6n1IZ"
      },
      "execution_count": null,
      "outputs": []
    },
    {
      "cell_type": "code",
      "source": [
        "input"
      ],
      "metadata": {
        "id": "-95OfLf0n-Z8",
        "outputId": "438a9811-6133-4196-8bd4-5130e63fc12b",
        "colab": {
          "base_uri": "https://localhost:8080/"
        }
      },
      "execution_count": null,
      "outputs": [
        {
          "output_type": "execute_result",
          "data": {
            "text/plain": [
              "[0.7069001657964601,\n",
              " 0.7056480863290174,\n",
              " 0.7018083781881272,\n",
              " 0.6914299308063998,\n",
              " 0.7062602209319522,\n",
              " 0.725375458842883,\n",
              " 0.7383136801178071,\n",
              " 0.7682525188000151,\n",
              " 0.7772396740262274,\n",
              " 0.7572063190746241,\n",
              " 0.7615190326028975,\n",
              " 0.7573732585517486,\n",
              " 0.7723148258950191,\n",
              " 0.7804116687772971,\n",
              " 0.7687533344489713,\n",
              " 0.765553571172589,\n",
              " 0.78024473208259,\n",
              " 0.7900944283450065,\n",
              " 0.8019197021504569,\n",
              " 0.7989425795644488,\n",
              " 0.7988034086126369,\n",
              " 0.790901351640482,\n",
              " 0.811101729541731,\n",
              " 0.8049526122046531,\n",
              " 0.7866998763760835,\n",
              " 0.7885362801848878,\n",
              " 0.8062046471534178,\n",
              " 0.7959097557651911,\n",
              " 0.8033109108334511,\n",
              " 0.8021144908429977,\n",
              " 0.802337131533372,\n",
              " 0.7958261997716904,\n",
              " 0.7948524232540287,\n",
              " 0.7837505195329706,\n",
              " 0.7660822360369615,\n",
              " 0.821591412404916,\n",
              " 0.8479130584278265,\n",
              " 0.8546743966227776,\n",
              " 0.849944253711589,\n",
              " 0.8495269078011949,\n",
              " 0.846716638437373,\n",
              " 0.8495269078011949,\n",
              " 0.8641067469748,\n",
              " 0.8585419122428234,\n",
              " 0.8539509402834469,\n",
              " 0.8687255709320101,\n",
              " 0.86260421655541,\n",
              " 0.8594323052768613,\n",
              " 0.8607956619620218,\n",
              " 0.8671395707740578,\n",
              " 0.8734278618453651,\n",
              " 0.8860043577330413,\n",
              " 0.8855035420840849,\n",
              " 0.8934055990562397,\n",
              " 0.8769337355506841,\n",
              " 0.873010515934971,\n",
              " 0.9065943130193715,\n",
              " 0.9259877676251449,\n",
              " 0.9213132396722677,\n",
              " 0.9134668894781974,\n",
              " 0.9251251403340023,\n",
              " 0.9329715767830109,\n",
              " 0.9344741044199835,\n",
              " 0.9281858161310937,\n",
              " 0.8995269506504223,\n",
              " 0.9047579092105673,\n",
              " 0.9090150049981119,\n",
              " 0.9230940285227608,\n",
              " 0.9298831352430244,\n",
              " 0.9383694720378629,\n",
              " 0.968308310720071,\n",
              " 0.9522537096523884,\n",
              " 0.9403449661083757,\n",
              " 0.9278519399592619,\n",
              " 0.9449637872831684,\n",
              " 0.9319142442718485,\n",
              " 0.9140511720832988,\n",
              " 0.9306622065406662,\n",
              " 0.934223697986714,\n",
              " 0.9319977140104108,\n",
              " 0.9472732437804513,\n",
              " 0.9401780266312512,\n",
              " 0.9406232245394788,\n",
              " 0.9493043528092755,\n",
              " 0.9380355958660312,\n",
              " 0.9230383273095111,\n",
              " 0.9248191133775867,\n",
              " 0.9379799781253025,\n",
              " 0.9531719546842597,\n",
              " 0.9603505525346664,\n",
              " 0.9617139954747654,\n",
              " 1.0,\n",
              " 0.9877295310687395,\n",
              " 0.9648859067533143,\n",
              " 0.9562603962242463,\n",
              " 0.9599888243650011,\n",
              " 0.9763216866462041,\n",
              " 0.9395658920283164,\n",
              " 0.9199498829871072,\n",
              " 0.9412353591424136]"
            ]
          },
          "metadata": {},
          "execution_count": 31
        }
      ]
    },
    {
      "cell_type": "code",
      "source": [
        "from numpy import array\n",
        "output=[]\n",
        "n_steps=100\n",
        "i=0\n",
        "while(i<30):\n",
        "  if(len(input)>100):\n",
        "    A_input=np.array(input[1:])\n",
        "    print(\"{} day input {}\".format(i,A_input))\n",
        "    A_input=A_input.reshape(1,-1)\n",
        "    A_input = A_input.reshape((1, n_steps, 1))\n",
        "    yh = model.predict(A_input, verbose=0)\n",
        "    print(\"{} day output {}\".format(i,yh))\n",
        "    input.extend(yh[0].tolist())\n",
        "    input=input[1:]\n",
        "    output.extend(yh.tolist())\n",
        "    i=i+1\n",
        "  else:\n",
        "    A_input=A_input.reshape((1,n_steps,1))\n",
        "    yh=model.predict(A_input,verbose=0)\n",
        "    print(yh[0])\n",
        "    input.extend(yh[0].tolist())\n",
        "    print(len(input))\n",
        "    output.extend(yh.tolist())\n",
        "    i=i+1\n",
        "\n",
        "print(output)"
      ],
      "metadata": {
        "id": "kRAext06oCPU",
        "outputId": "063c14d4-bd27-42f8-9916-d194e5212231",
        "colab": {
          "base_uri": "https://localhost:8080/"
        }
      },
      "execution_count": null,
      "outputs": [
        {
          "output_type": "stream",
          "name": "stdout",
          "text": [
            "[0.8447119]\n",
            "101\n",
            "1 day input [0.70564809 0.70180838 0.69142993 0.70626022 0.72537546 0.73831368\n",
            " 0.76825252 0.77723967 0.75720632 0.76151903 0.75737326 0.77231483\n",
            " 0.78041167 0.76875333 0.76555357 0.78024473 0.79009443 0.8019197\n",
            " 0.79894258 0.79880341 0.79090135 0.81110173 0.80495261 0.78669988\n",
            " 0.78853628 0.80620465 0.79590976 0.80331091 0.80211449 0.80233713\n",
            " 0.7958262  0.79485242 0.78375052 0.76608224 0.82159141 0.84791306\n",
            " 0.8546744  0.84994425 0.84952691 0.84671664 0.84952691 0.86410675\n",
            " 0.85854191 0.85395094 0.86872557 0.86260422 0.85943231 0.86079566\n",
            " 0.86713957 0.87342786 0.88600436 0.88550354 0.8934056  0.87693374\n",
            " 0.87301052 0.90659431 0.92598777 0.92131324 0.91346689 0.92512514\n",
            " 0.93297158 0.9344741  0.92818582 0.89952695 0.90475791 0.909015\n",
            " 0.92309403 0.92988314 0.93836947 0.96830831 0.95225371 0.94034497\n",
            " 0.92785194 0.94496379 0.93191424 0.91405117 0.93066221 0.9342237\n",
            " 0.93199771 0.94727324 0.94017803 0.94062322 0.94930435 0.9380356\n",
            " 0.92303833 0.92481911 0.93797998 0.95317195 0.96035055 0.961714\n",
            " 1.         0.98772953 0.96488591 0.9562604  0.95998882 0.97632169\n",
            " 0.93956589 0.91994988 0.94123536 0.8447119 ]\n",
            "1 day output [[0.7565743]]\n",
            "2 day input [0.70180838 0.69142993 0.70626022 0.72537546 0.73831368 0.76825252\n",
            " 0.77723967 0.75720632 0.76151903 0.75737326 0.77231483 0.78041167\n",
            " 0.76875333 0.76555357 0.78024473 0.79009443 0.8019197  0.79894258\n",
            " 0.79880341 0.79090135 0.81110173 0.80495261 0.78669988 0.78853628\n",
            " 0.80620465 0.79590976 0.80331091 0.80211449 0.80233713 0.7958262\n",
            " 0.79485242 0.78375052 0.76608224 0.82159141 0.84791306 0.8546744\n",
            " 0.84994425 0.84952691 0.84671664 0.84952691 0.86410675 0.85854191\n",
            " 0.85395094 0.86872557 0.86260422 0.85943231 0.86079566 0.86713957\n",
            " 0.87342786 0.88600436 0.88550354 0.8934056  0.87693374 0.87301052\n",
            " 0.90659431 0.92598777 0.92131324 0.91346689 0.92512514 0.93297158\n",
            " 0.9344741  0.92818582 0.89952695 0.90475791 0.909015   0.92309403\n",
            " 0.92988314 0.93836947 0.96830831 0.95225371 0.94034497 0.92785194\n",
            " 0.94496379 0.93191424 0.91405117 0.93066221 0.9342237  0.93199771\n",
            " 0.94727324 0.94017803 0.94062322 0.94930435 0.9380356  0.92303833\n",
            " 0.92481911 0.93797998 0.95317195 0.96035055 0.961714   1.\n",
            " 0.98772953 0.96488591 0.9562604  0.95998882 0.97632169 0.93956589\n",
            " 0.91994988 0.94123536 0.8447119  0.75657427]\n",
            "2 day output [[0.6676381]]\n",
            "3 day input [0.69142993 0.70626022 0.72537546 0.73831368 0.76825252 0.77723967\n",
            " 0.75720632 0.76151903 0.75737326 0.77231483 0.78041167 0.76875333\n",
            " 0.76555357 0.78024473 0.79009443 0.8019197  0.79894258 0.79880341\n",
            " 0.79090135 0.81110173 0.80495261 0.78669988 0.78853628 0.80620465\n",
            " 0.79590976 0.80331091 0.80211449 0.80233713 0.7958262  0.79485242\n",
            " 0.78375052 0.76608224 0.82159141 0.84791306 0.8546744  0.84994425\n",
            " 0.84952691 0.84671664 0.84952691 0.86410675 0.85854191 0.85395094\n",
            " 0.86872557 0.86260422 0.85943231 0.86079566 0.86713957 0.87342786\n",
            " 0.88600436 0.88550354 0.8934056  0.87693374 0.87301052 0.90659431\n",
            " 0.92598777 0.92131324 0.91346689 0.92512514 0.93297158 0.9344741\n",
            " 0.92818582 0.89952695 0.90475791 0.909015   0.92309403 0.92988314\n",
            " 0.93836947 0.96830831 0.95225371 0.94034497 0.92785194 0.94496379\n",
            " 0.93191424 0.91405117 0.93066221 0.9342237  0.93199771 0.94727324\n",
            " 0.94017803 0.94062322 0.94930435 0.9380356  0.92303833 0.92481911\n",
            " 0.93797998 0.95317195 0.96035055 0.961714   1.         0.98772953\n",
            " 0.96488591 0.9562604  0.95998882 0.97632169 0.93956589 0.91994988\n",
            " 0.94123536 0.8447119  0.75657427 0.66763812]\n",
            "3 day output [[0.5883849]]\n",
            "4 day input [0.70626022 0.72537546 0.73831368 0.76825252 0.77723967 0.75720632\n",
            " 0.76151903 0.75737326 0.77231483 0.78041167 0.76875333 0.76555357\n",
            " 0.78024473 0.79009443 0.8019197  0.79894258 0.79880341 0.79090135\n",
            " 0.81110173 0.80495261 0.78669988 0.78853628 0.80620465 0.79590976\n",
            " 0.80331091 0.80211449 0.80233713 0.7958262  0.79485242 0.78375052\n",
            " 0.76608224 0.82159141 0.84791306 0.8546744  0.84994425 0.84952691\n",
            " 0.84671664 0.84952691 0.86410675 0.85854191 0.85395094 0.86872557\n",
            " 0.86260422 0.85943231 0.86079566 0.86713957 0.87342786 0.88600436\n",
            " 0.88550354 0.8934056  0.87693374 0.87301052 0.90659431 0.92598777\n",
            " 0.92131324 0.91346689 0.92512514 0.93297158 0.9344741  0.92818582\n",
            " 0.89952695 0.90475791 0.909015   0.92309403 0.92988314 0.93836947\n",
            " 0.96830831 0.95225371 0.94034497 0.92785194 0.94496379 0.93191424\n",
            " 0.91405117 0.93066221 0.9342237  0.93199771 0.94727324 0.94017803\n",
            " 0.94062322 0.94930435 0.9380356  0.92303833 0.92481911 0.93797998\n",
            " 0.95317195 0.96035055 0.961714   1.         0.98772953 0.96488591\n",
            " 0.9562604  0.95998882 0.97632169 0.93956589 0.91994988 0.94123536\n",
            " 0.8447119  0.75657427 0.66763812 0.58838493]\n",
            "4 day output [[0.5200422]]\n",
            "5 day input [0.72537546 0.73831368 0.76825252 0.77723967 0.75720632 0.76151903\n",
            " 0.75737326 0.77231483 0.78041167 0.76875333 0.76555357 0.78024473\n",
            " 0.79009443 0.8019197  0.79894258 0.79880341 0.79090135 0.81110173\n",
            " 0.80495261 0.78669988 0.78853628 0.80620465 0.79590976 0.80331091\n",
            " 0.80211449 0.80233713 0.7958262  0.79485242 0.78375052 0.76608224\n",
            " 0.82159141 0.84791306 0.8546744  0.84994425 0.84952691 0.84671664\n",
            " 0.84952691 0.86410675 0.85854191 0.85395094 0.86872557 0.86260422\n",
            " 0.85943231 0.86079566 0.86713957 0.87342786 0.88600436 0.88550354\n",
            " 0.8934056  0.87693374 0.87301052 0.90659431 0.92598777 0.92131324\n",
            " 0.91346689 0.92512514 0.93297158 0.9344741  0.92818582 0.89952695\n",
            " 0.90475791 0.909015   0.92309403 0.92988314 0.93836947 0.96830831\n",
            " 0.95225371 0.94034497 0.92785194 0.94496379 0.93191424 0.91405117\n",
            " 0.93066221 0.9342237  0.93199771 0.94727324 0.94017803 0.94062322\n",
            " 0.94930435 0.9380356  0.92303833 0.92481911 0.93797998 0.95317195\n",
            " 0.96035055 0.961714   1.         0.98772953 0.96488591 0.9562604\n",
            " 0.95998882 0.97632169 0.93956589 0.91994988 0.94123536 0.8447119\n",
            " 0.75657427 0.66763812 0.58838493 0.52004218]\n",
            "5 day output [[0.46013916]]\n",
            "6 day input [0.73831368 0.76825252 0.77723967 0.75720632 0.76151903 0.75737326\n",
            " 0.77231483 0.78041167 0.76875333 0.76555357 0.78024473 0.79009443\n",
            " 0.8019197  0.79894258 0.79880341 0.79090135 0.81110173 0.80495261\n",
            " 0.78669988 0.78853628 0.80620465 0.79590976 0.80331091 0.80211449\n",
            " 0.80233713 0.7958262  0.79485242 0.78375052 0.76608224 0.82159141\n",
            " 0.84791306 0.8546744  0.84994425 0.84952691 0.84671664 0.84952691\n",
            " 0.86410675 0.85854191 0.85395094 0.86872557 0.86260422 0.85943231\n",
            " 0.86079566 0.86713957 0.87342786 0.88600436 0.88550354 0.8934056\n",
            " 0.87693374 0.87301052 0.90659431 0.92598777 0.92131324 0.91346689\n",
            " 0.92512514 0.93297158 0.9344741  0.92818582 0.89952695 0.90475791\n",
            " 0.909015   0.92309403 0.92988314 0.93836947 0.96830831 0.95225371\n",
            " 0.94034497 0.92785194 0.94496379 0.93191424 0.91405117 0.93066221\n",
            " 0.9342237  0.93199771 0.94727324 0.94017803 0.94062322 0.94930435\n",
            " 0.9380356  0.92303833 0.92481911 0.93797998 0.95317195 0.96035055\n",
            " 0.961714   1.         0.98772953 0.96488591 0.9562604  0.95998882\n",
            " 0.97632169 0.93956589 0.91994988 0.94123536 0.8447119  0.75657427\n",
            " 0.66763812 0.58838493 0.52004218 0.46013916]\n",
            "6 day output [[0.40557942]]\n",
            "7 day input [0.76825252 0.77723967 0.75720632 0.76151903 0.75737326 0.77231483\n",
            " 0.78041167 0.76875333 0.76555357 0.78024473 0.79009443 0.8019197\n",
            " 0.79894258 0.79880341 0.79090135 0.81110173 0.80495261 0.78669988\n",
            " 0.78853628 0.80620465 0.79590976 0.80331091 0.80211449 0.80233713\n",
            " 0.7958262  0.79485242 0.78375052 0.76608224 0.82159141 0.84791306\n",
            " 0.8546744  0.84994425 0.84952691 0.84671664 0.84952691 0.86410675\n",
            " 0.85854191 0.85395094 0.86872557 0.86260422 0.85943231 0.86079566\n",
            " 0.86713957 0.87342786 0.88600436 0.88550354 0.8934056  0.87693374\n",
            " 0.87301052 0.90659431 0.92598777 0.92131324 0.91346689 0.92512514\n",
            " 0.93297158 0.9344741  0.92818582 0.89952695 0.90475791 0.909015\n",
            " 0.92309403 0.92988314 0.93836947 0.96830831 0.95225371 0.94034497\n",
            " 0.92785194 0.94496379 0.93191424 0.91405117 0.93066221 0.9342237\n",
            " 0.93199771 0.94727324 0.94017803 0.94062322 0.94930435 0.9380356\n",
            " 0.92303833 0.92481911 0.93797998 0.95317195 0.96035055 0.961714\n",
            " 1.         0.98772953 0.96488591 0.9562604  0.95998882 0.97632169\n",
            " 0.93956589 0.91994988 0.94123536 0.8447119  0.75657427 0.66763812\n",
            " 0.58838493 0.52004218 0.46013916 0.40557942]\n",
            "7 day output [[0.35438505]]\n",
            "8 day input [0.77723967 0.75720632 0.76151903 0.75737326 0.77231483 0.78041167\n",
            " 0.76875333 0.76555357 0.78024473 0.79009443 0.8019197  0.79894258\n",
            " 0.79880341 0.79090135 0.81110173 0.80495261 0.78669988 0.78853628\n",
            " 0.80620465 0.79590976 0.80331091 0.80211449 0.80233713 0.7958262\n",
            " 0.79485242 0.78375052 0.76608224 0.82159141 0.84791306 0.8546744\n",
            " 0.84994425 0.84952691 0.84671664 0.84952691 0.86410675 0.85854191\n",
            " 0.85395094 0.86872557 0.86260422 0.85943231 0.86079566 0.86713957\n",
            " 0.87342786 0.88600436 0.88550354 0.8934056  0.87693374 0.87301052\n",
            " 0.90659431 0.92598777 0.92131324 0.91346689 0.92512514 0.93297158\n",
            " 0.9344741  0.92818582 0.89952695 0.90475791 0.909015   0.92309403\n",
            " 0.92988314 0.93836947 0.96830831 0.95225371 0.94034497 0.92785194\n",
            " 0.94496379 0.93191424 0.91405117 0.93066221 0.9342237  0.93199771\n",
            " 0.94727324 0.94017803 0.94062322 0.94930435 0.9380356  0.92303833\n",
            " 0.92481911 0.93797998 0.95317195 0.96035055 0.961714   1.\n",
            " 0.98772953 0.96488591 0.9562604  0.95998882 0.97632169 0.93956589\n",
            " 0.91994988 0.94123536 0.8447119  0.75657427 0.66763812 0.58838493\n",
            " 0.52004218 0.46013916 0.40557942 0.35438505]\n",
            "8 day output [[0.30591005]]\n",
            "9 day input [0.75720632 0.76151903 0.75737326 0.77231483 0.78041167 0.76875333\n",
            " 0.76555357 0.78024473 0.79009443 0.8019197  0.79894258 0.79880341\n",
            " 0.79090135 0.81110173 0.80495261 0.78669988 0.78853628 0.80620465\n",
            " 0.79590976 0.80331091 0.80211449 0.80233713 0.7958262  0.79485242\n",
            " 0.78375052 0.76608224 0.82159141 0.84791306 0.8546744  0.84994425\n",
            " 0.84952691 0.84671664 0.84952691 0.86410675 0.85854191 0.85395094\n",
            " 0.86872557 0.86260422 0.85943231 0.86079566 0.86713957 0.87342786\n",
            " 0.88600436 0.88550354 0.8934056  0.87693374 0.87301052 0.90659431\n",
            " 0.92598777 0.92131324 0.91346689 0.92512514 0.93297158 0.9344741\n",
            " 0.92818582 0.89952695 0.90475791 0.909015   0.92309403 0.92988314\n",
            " 0.93836947 0.96830831 0.95225371 0.94034497 0.92785194 0.94496379\n",
            " 0.93191424 0.91405117 0.93066221 0.9342237  0.93199771 0.94727324\n",
            " 0.94017803 0.94062322 0.94930435 0.9380356  0.92303833 0.92481911\n",
            " 0.93797998 0.95317195 0.96035055 0.961714   1.         0.98772953\n",
            " 0.96488591 0.9562604  0.95998882 0.97632169 0.93956589 0.91994988\n",
            " 0.94123536 0.8447119  0.75657427 0.66763812 0.58838493 0.52004218\n",
            " 0.46013916 0.40557942 0.35438505 0.30591005]\n",
            "9 day output [[0.26040137]]\n",
            "10 day input [0.76151903 0.75737326 0.77231483 0.78041167 0.76875333 0.76555357\n",
            " 0.78024473 0.79009443 0.8019197  0.79894258 0.79880341 0.79090135\n",
            " 0.81110173 0.80495261 0.78669988 0.78853628 0.80620465 0.79590976\n",
            " 0.80331091 0.80211449 0.80233713 0.7958262  0.79485242 0.78375052\n",
            " 0.76608224 0.82159141 0.84791306 0.8546744  0.84994425 0.84952691\n",
            " 0.84671664 0.84952691 0.86410675 0.85854191 0.85395094 0.86872557\n",
            " 0.86260422 0.85943231 0.86079566 0.86713957 0.87342786 0.88600436\n",
            " 0.88550354 0.8934056  0.87693374 0.87301052 0.90659431 0.92598777\n",
            " 0.92131324 0.91346689 0.92512514 0.93297158 0.9344741  0.92818582\n",
            " 0.89952695 0.90475791 0.909015   0.92309403 0.92988314 0.93836947\n",
            " 0.96830831 0.95225371 0.94034497 0.92785194 0.94496379 0.93191424\n",
            " 0.91405117 0.93066221 0.9342237  0.93199771 0.94727324 0.94017803\n",
            " 0.94062322 0.94930435 0.9380356  0.92303833 0.92481911 0.93797998\n",
            " 0.95317195 0.96035055 0.961714   1.         0.98772953 0.96488591\n",
            " 0.9562604  0.95998882 0.97632169 0.93956589 0.91994988 0.94123536\n",
            " 0.8447119  0.75657427 0.66763812 0.58838493 0.52004218 0.46013916\n",
            " 0.40557942 0.35438505 0.30591005 0.26040137]\n",
            "10 day output [[0.21847147]]\n",
            "11 day input [0.75737326 0.77231483 0.78041167 0.76875333 0.76555357 0.78024473\n",
            " 0.79009443 0.8019197  0.79894258 0.79880341 0.79090135 0.81110173\n",
            " 0.80495261 0.78669988 0.78853628 0.80620465 0.79590976 0.80331091\n",
            " 0.80211449 0.80233713 0.7958262  0.79485242 0.78375052 0.76608224\n",
            " 0.82159141 0.84791306 0.8546744  0.84994425 0.84952691 0.84671664\n",
            " 0.84952691 0.86410675 0.85854191 0.85395094 0.86872557 0.86260422\n",
            " 0.85943231 0.86079566 0.86713957 0.87342786 0.88600436 0.88550354\n",
            " 0.8934056  0.87693374 0.87301052 0.90659431 0.92598777 0.92131324\n",
            " 0.91346689 0.92512514 0.93297158 0.9344741  0.92818582 0.89952695\n",
            " 0.90475791 0.909015   0.92309403 0.92988314 0.93836947 0.96830831\n",
            " 0.95225371 0.94034497 0.92785194 0.94496379 0.93191424 0.91405117\n",
            " 0.93066221 0.9342237  0.93199771 0.94727324 0.94017803 0.94062322\n",
            " 0.94930435 0.9380356  0.92303833 0.92481911 0.93797998 0.95317195\n",
            " 0.96035055 0.961714   1.         0.98772953 0.96488591 0.9562604\n",
            " 0.95998882 0.97632169 0.93956589 0.91994988 0.94123536 0.8447119\n",
            " 0.75657427 0.66763812 0.58838493 0.52004218 0.46013916 0.40557942\n",
            " 0.35438505 0.30591005 0.26040137 0.21847147]\n",
            "11 day output [[0.18071327]]\n",
            "12 day input [0.77231483 0.78041167 0.76875333 0.76555357 0.78024473 0.79009443\n",
            " 0.8019197  0.79894258 0.79880341 0.79090135 0.81110173 0.80495261\n",
            " 0.78669988 0.78853628 0.80620465 0.79590976 0.80331091 0.80211449\n",
            " 0.80233713 0.7958262  0.79485242 0.78375052 0.76608224 0.82159141\n",
            " 0.84791306 0.8546744  0.84994425 0.84952691 0.84671664 0.84952691\n",
            " 0.86410675 0.85854191 0.85395094 0.86872557 0.86260422 0.85943231\n",
            " 0.86079566 0.86713957 0.87342786 0.88600436 0.88550354 0.8934056\n",
            " 0.87693374 0.87301052 0.90659431 0.92598777 0.92131324 0.91346689\n",
            " 0.92512514 0.93297158 0.9344741  0.92818582 0.89952695 0.90475791\n",
            " 0.909015   0.92309403 0.92988314 0.93836947 0.96830831 0.95225371\n",
            " 0.94034497 0.92785194 0.94496379 0.93191424 0.91405117 0.93066221\n",
            " 0.9342237  0.93199771 0.94727324 0.94017803 0.94062322 0.94930435\n",
            " 0.9380356  0.92303833 0.92481911 0.93797998 0.95317195 0.96035055\n",
            " 0.961714   1.         0.98772953 0.96488591 0.9562604  0.95998882\n",
            " 0.97632169 0.93956589 0.91994988 0.94123536 0.8447119  0.75657427\n",
            " 0.66763812 0.58838493 0.52004218 0.46013916 0.40557942 0.35438505\n",
            " 0.30591005 0.26040137 0.21847147 0.18071327]\n",
            "12 day output [[0.14750297]]\n",
            "13 day input [0.78041167 0.76875333 0.76555357 0.78024473 0.79009443 0.8019197\n",
            " 0.79894258 0.79880341 0.79090135 0.81110173 0.80495261 0.78669988\n",
            " 0.78853628 0.80620465 0.79590976 0.80331091 0.80211449 0.80233713\n",
            " 0.7958262  0.79485242 0.78375052 0.76608224 0.82159141 0.84791306\n",
            " 0.8546744  0.84994425 0.84952691 0.84671664 0.84952691 0.86410675\n",
            " 0.85854191 0.85395094 0.86872557 0.86260422 0.85943231 0.86079566\n",
            " 0.86713957 0.87342786 0.88600436 0.88550354 0.8934056  0.87693374\n",
            " 0.87301052 0.90659431 0.92598777 0.92131324 0.91346689 0.92512514\n",
            " 0.93297158 0.9344741  0.92818582 0.89952695 0.90475791 0.909015\n",
            " 0.92309403 0.92988314 0.93836947 0.96830831 0.95225371 0.94034497\n",
            " 0.92785194 0.94496379 0.93191424 0.91405117 0.93066221 0.9342237\n",
            " 0.93199771 0.94727324 0.94017803 0.94062322 0.94930435 0.9380356\n",
            " 0.92303833 0.92481911 0.93797998 0.95317195 0.96035055 0.961714\n",
            " 1.         0.98772953 0.96488591 0.9562604  0.95998882 0.97632169\n",
            " 0.93956589 0.91994988 0.94123536 0.8447119  0.75657427 0.66763812\n",
            " 0.58838493 0.52004218 0.46013916 0.40557942 0.35438505 0.30591005\n",
            " 0.26040137 0.21847147 0.18071327 0.14750297]\n",
            "13 day output [[0.11895549]]\n",
            "14 day input [0.76875333 0.76555357 0.78024473 0.79009443 0.8019197  0.79894258\n",
            " 0.79880341 0.79090135 0.81110173 0.80495261 0.78669988 0.78853628\n",
            " 0.80620465 0.79590976 0.80331091 0.80211449 0.80233713 0.7958262\n",
            " 0.79485242 0.78375052 0.76608224 0.82159141 0.84791306 0.8546744\n",
            " 0.84994425 0.84952691 0.84671664 0.84952691 0.86410675 0.85854191\n",
            " 0.85395094 0.86872557 0.86260422 0.85943231 0.86079566 0.86713957\n",
            " 0.87342786 0.88600436 0.88550354 0.8934056  0.87693374 0.87301052\n",
            " 0.90659431 0.92598777 0.92131324 0.91346689 0.92512514 0.93297158\n",
            " 0.9344741  0.92818582 0.89952695 0.90475791 0.909015   0.92309403\n",
            " 0.92988314 0.93836947 0.96830831 0.95225371 0.94034497 0.92785194\n",
            " 0.94496379 0.93191424 0.91405117 0.93066221 0.9342237  0.93199771\n",
            " 0.94727324 0.94017803 0.94062322 0.94930435 0.9380356  0.92303833\n",
            " 0.92481911 0.93797998 0.95317195 0.96035055 0.961714   1.\n",
            " 0.98772953 0.96488591 0.9562604  0.95998882 0.97632169 0.93956589\n",
            " 0.91994988 0.94123536 0.8447119  0.75657427 0.66763812 0.58838493\n",
            " 0.52004218 0.46013916 0.40557942 0.35438505 0.30591005 0.26040137\n",
            " 0.21847147 0.18071327 0.14750297 0.11895549]\n",
            "14 day output [[0.09496447]]\n",
            "15 day input [0.76555357 0.78024473 0.79009443 0.8019197  0.79894258 0.79880341\n",
            " 0.79090135 0.81110173 0.80495261 0.78669988 0.78853628 0.80620465\n",
            " 0.79590976 0.80331091 0.80211449 0.80233713 0.7958262  0.79485242\n",
            " 0.78375052 0.76608224 0.82159141 0.84791306 0.8546744  0.84994425\n",
            " 0.84952691 0.84671664 0.84952691 0.86410675 0.85854191 0.85395094\n",
            " 0.86872557 0.86260422 0.85943231 0.86079566 0.86713957 0.87342786\n",
            " 0.88600436 0.88550354 0.8934056  0.87693374 0.87301052 0.90659431\n",
            " 0.92598777 0.92131324 0.91346689 0.92512514 0.93297158 0.9344741\n",
            " 0.92818582 0.89952695 0.90475791 0.909015   0.92309403 0.92988314\n",
            " 0.93836947 0.96830831 0.95225371 0.94034497 0.92785194 0.94496379\n",
            " 0.93191424 0.91405117 0.93066221 0.9342237  0.93199771 0.94727324\n",
            " 0.94017803 0.94062322 0.94930435 0.9380356  0.92303833 0.92481911\n",
            " 0.93797998 0.95317195 0.96035055 0.961714   1.         0.98772953\n",
            " 0.96488591 0.9562604  0.95998882 0.97632169 0.93956589 0.91994988\n",
            " 0.94123536 0.8447119  0.75657427 0.66763812 0.58838493 0.52004218\n",
            " 0.46013916 0.40557942 0.35438505 0.30591005 0.26040137 0.21847147\n",
            " 0.18071327 0.14750297 0.11895549 0.09496447]\n",
            "15 day output [[0.07527173]]\n",
            "16 day input [0.78024473 0.79009443 0.8019197  0.79894258 0.79880341 0.79090135\n",
            " 0.81110173 0.80495261 0.78669988 0.78853628 0.80620465 0.79590976\n",
            " 0.80331091 0.80211449 0.80233713 0.7958262  0.79485242 0.78375052\n",
            " 0.76608224 0.82159141 0.84791306 0.8546744  0.84994425 0.84952691\n",
            " 0.84671664 0.84952691 0.86410675 0.85854191 0.85395094 0.86872557\n",
            " 0.86260422 0.85943231 0.86079566 0.86713957 0.87342786 0.88600436\n",
            " 0.88550354 0.8934056  0.87693374 0.87301052 0.90659431 0.92598777\n",
            " 0.92131324 0.91346689 0.92512514 0.93297158 0.9344741  0.92818582\n",
            " 0.89952695 0.90475791 0.909015   0.92309403 0.92988314 0.93836947\n",
            " 0.96830831 0.95225371 0.94034497 0.92785194 0.94496379 0.93191424\n",
            " 0.91405117 0.93066221 0.9342237  0.93199771 0.94727324 0.94017803\n",
            " 0.94062322 0.94930435 0.9380356  0.92303833 0.92481911 0.93797998\n",
            " 0.95317195 0.96035055 0.961714   1.         0.98772953 0.96488591\n",
            " 0.9562604  0.95998882 0.97632169 0.93956589 0.91994988 0.94123536\n",
            " 0.8447119  0.75657427 0.66763812 0.58838493 0.52004218 0.46013916\n",
            " 0.40557942 0.35438505 0.30591005 0.26040137 0.21847147 0.18071327\n",
            " 0.14750297 0.11895549 0.09496447 0.07527173]\n",
            "16 day output [[0.05953102]]\n",
            "17 day input [0.79009443 0.8019197  0.79894258 0.79880341 0.79090135 0.81110173\n",
            " 0.80495261 0.78669988 0.78853628 0.80620465 0.79590976 0.80331091\n",
            " 0.80211449 0.80233713 0.7958262  0.79485242 0.78375052 0.76608224\n",
            " 0.82159141 0.84791306 0.8546744  0.84994425 0.84952691 0.84671664\n",
            " 0.84952691 0.86410675 0.85854191 0.85395094 0.86872557 0.86260422\n",
            " 0.85943231 0.86079566 0.86713957 0.87342786 0.88600436 0.88550354\n",
            " 0.8934056  0.87693374 0.87301052 0.90659431 0.92598777 0.92131324\n",
            " 0.91346689 0.92512514 0.93297158 0.9344741  0.92818582 0.89952695\n",
            " 0.90475791 0.909015   0.92309403 0.92988314 0.93836947 0.96830831\n",
            " 0.95225371 0.94034497 0.92785194 0.94496379 0.93191424 0.91405117\n",
            " 0.93066221 0.9342237  0.93199771 0.94727324 0.94017803 0.94062322\n",
            " 0.94930435 0.9380356  0.92303833 0.92481911 0.93797998 0.95317195\n",
            " 0.96035055 0.961714   1.         0.98772953 0.96488591 0.9562604\n",
            " 0.95998882 0.97632169 0.93956589 0.91994988 0.94123536 0.8447119\n",
            " 0.75657427 0.66763812 0.58838493 0.52004218 0.46013916 0.40557942\n",
            " 0.35438505 0.30591005 0.26040137 0.21847147 0.18071327 0.14750297\n",
            " 0.11895549 0.09496447 0.07527173 0.05953102]\n",
            "17 day output [[0.04735487]]\n",
            "18 day input [0.8019197  0.79894258 0.79880341 0.79090135 0.81110173 0.80495261\n",
            " 0.78669988 0.78853628 0.80620465 0.79590976 0.80331091 0.80211449\n",
            " 0.80233713 0.7958262  0.79485242 0.78375052 0.76608224 0.82159141\n",
            " 0.84791306 0.8546744  0.84994425 0.84952691 0.84671664 0.84952691\n",
            " 0.86410675 0.85854191 0.85395094 0.86872557 0.86260422 0.85943231\n",
            " 0.86079566 0.86713957 0.87342786 0.88600436 0.88550354 0.8934056\n",
            " 0.87693374 0.87301052 0.90659431 0.92598777 0.92131324 0.91346689\n",
            " 0.92512514 0.93297158 0.9344741  0.92818582 0.89952695 0.90475791\n",
            " 0.909015   0.92309403 0.92988314 0.93836947 0.96830831 0.95225371\n",
            " 0.94034497 0.92785194 0.94496379 0.93191424 0.91405117 0.93066221\n",
            " 0.9342237  0.93199771 0.94727324 0.94017803 0.94062322 0.94930435\n",
            " 0.9380356  0.92303833 0.92481911 0.93797998 0.95317195 0.96035055\n",
            " 0.961714   1.         0.98772953 0.96488591 0.9562604  0.95998882\n",
            " 0.97632169 0.93956589 0.91994988 0.94123536 0.8447119  0.75657427\n",
            " 0.66763812 0.58838493 0.52004218 0.46013916 0.40557942 0.35438505\n",
            " 0.30591005 0.26040137 0.21847147 0.18071327 0.14750297 0.11895549\n",
            " 0.09496447 0.07527173 0.05953102 0.04735487]\n",
            "18 day output [[0.03834464]]\n",
            "19 day input [0.79894258 0.79880341 0.79090135 0.81110173 0.80495261 0.78669988\n",
            " 0.78853628 0.80620465 0.79590976 0.80331091 0.80211449 0.80233713\n",
            " 0.7958262  0.79485242 0.78375052 0.76608224 0.82159141 0.84791306\n",
            " 0.8546744  0.84994425 0.84952691 0.84671664 0.84952691 0.86410675\n",
            " 0.85854191 0.85395094 0.86872557 0.86260422 0.85943231 0.86079566\n",
            " 0.86713957 0.87342786 0.88600436 0.88550354 0.8934056  0.87693374\n",
            " 0.87301052 0.90659431 0.92598777 0.92131324 0.91346689 0.92512514\n",
            " 0.93297158 0.9344741  0.92818582 0.89952695 0.90475791 0.909015\n",
            " 0.92309403 0.92988314 0.93836947 0.96830831 0.95225371 0.94034497\n",
            " 0.92785194 0.94496379 0.93191424 0.91405117 0.93066221 0.9342237\n",
            " 0.93199771 0.94727324 0.94017803 0.94062322 0.94930435 0.9380356\n",
            " 0.92303833 0.92481911 0.93797998 0.95317195 0.96035055 0.961714\n",
            " 1.         0.98772953 0.96488591 0.9562604  0.95998882 0.97632169\n",
            " 0.93956589 0.91994988 0.94123536 0.8447119  0.75657427 0.66763812\n",
            " 0.58838493 0.52004218 0.46013916 0.40557942 0.35438505 0.30591005\n",
            " 0.26040137 0.21847147 0.18071327 0.14750297 0.11895549 0.09496447\n",
            " 0.07527173 0.05953102 0.04735487 0.03834464]\n",
            "19 day output [[0.03210868]]\n",
            "20 day input [0.79880341 0.79090135 0.81110173 0.80495261 0.78669988 0.78853628\n",
            " 0.80620465 0.79590976 0.80331091 0.80211449 0.80233713 0.7958262\n",
            " 0.79485242 0.78375052 0.76608224 0.82159141 0.84791306 0.8546744\n",
            " 0.84994425 0.84952691 0.84671664 0.84952691 0.86410675 0.85854191\n",
            " 0.85395094 0.86872557 0.86260422 0.85943231 0.86079566 0.86713957\n",
            " 0.87342786 0.88600436 0.88550354 0.8934056  0.87693374 0.87301052\n",
            " 0.90659431 0.92598777 0.92131324 0.91346689 0.92512514 0.93297158\n",
            " 0.9344741  0.92818582 0.89952695 0.90475791 0.909015   0.92309403\n",
            " 0.92988314 0.93836947 0.96830831 0.95225371 0.94034497 0.92785194\n",
            " 0.94496379 0.93191424 0.91405117 0.93066221 0.9342237  0.93199771\n",
            " 0.94727324 0.94017803 0.94062322 0.94930435 0.9380356  0.92303833\n",
            " 0.92481911 0.93797998 0.95317195 0.96035055 0.961714   1.\n",
            " 0.98772953 0.96488591 0.9562604  0.95998882 0.97632169 0.93956589\n",
            " 0.91994988 0.94123536 0.8447119  0.75657427 0.66763812 0.58838493\n",
            " 0.52004218 0.46013916 0.40557942 0.35438505 0.30591005 0.26040137\n",
            " 0.21847147 0.18071327 0.14750297 0.11895549 0.09496447 0.07527173\n",
            " 0.05953102 0.04735487 0.03834464 0.03210868]\n",
            "20 day output [[0.02827274]]\n",
            "21 day input [0.79090135 0.81110173 0.80495261 0.78669988 0.78853628 0.80620465\n",
            " 0.79590976 0.80331091 0.80211449 0.80233713 0.7958262  0.79485242\n",
            " 0.78375052 0.76608224 0.82159141 0.84791306 0.8546744  0.84994425\n",
            " 0.84952691 0.84671664 0.84952691 0.86410675 0.85854191 0.85395094\n",
            " 0.86872557 0.86260422 0.85943231 0.86079566 0.86713957 0.87342786\n",
            " 0.88600436 0.88550354 0.8934056  0.87693374 0.87301052 0.90659431\n",
            " 0.92598777 0.92131324 0.91346689 0.92512514 0.93297158 0.9344741\n",
            " 0.92818582 0.89952695 0.90475791 0.909015   0.92309403 0.92988314\n",
            " 0.93836947 0.96830831 0.95225371 0.94034497 0.92785194 0.94496379\n",
            " 0.93191424 0.91405117 0.93066221 0.9342237  0.93199771 0.94727324\n",
            " 0.94017803 0.94062322 0.94930435 0.9380356  0.92303833 0.92481911\n",
            " 0.93797998 0.95317195 0.96035055 0.961714   1.         0.98772953\n",
            " 0.96488591 0.9562604  0.95998882 0.97632169 0.93956589 0.91994988\n",
            " 0.94123536 0.8447119  0.75657427 0.66763812 0.58838493 0.52004218\n",
            " 0.46013916 0.40557942 0.35438505 0.30591005 0.26040137 0.21847147\n",
            " 0.18071327 0.14750297 0.11895549 0.09496447 0.07527173 0.05953102\n",
            " 0.04735487 0.03834464 0.03210868 0.02827274]\n",
            "21 day output [[0.02648612]]\n",
            "22 day input [0.81110173 0.80495261 0.78669988 0.78853628 0.80620465 0.79590976\n",
            " 0.80331091 0.80211449 0.80233713 0.7958262  0.79485242 0.78375052\n",
            " 0.76608224 0.82159141 0.84791306 0.8546744  0.84994425 0.84952691\n",
            " 0.84671664 0.84952691 0.86410675 0.85854191 0.85395094 0.86872557\n",
            " 0.86260422 0.85943231 0.86079566 0.86713957 0.87342786 0.88600436\n",
            " 0.88550354 0.8934056  0.87693374 0.87301052 0.90659431 0.92598777\n",
            " 0.92131324 0.91346689 0.92512514 0.93297158 0.9344741  0.92818582\n",
            " 0.89952695 0.90475791 0.909015   0.92309403 0.92988314 0.93836947\n",
            " 0.96830831 0.95225371 0.94034497 0.92785194 0.94496379 0.93191424\n",
            " 0.91405117 0.93066221 0.9342237  0.93199771 0.94727324 0.94017803\n",
            " 0.94062322 0.94930435 0.9380356  0.92303833 0.92481911 0.93797998\n",
            " 0.95317195 0.96035055 0.961714   1.         0.98772953 0.96488591\n",
            " 0.9562604  0.95998882 0.97632169 0.93956589 0.91994988 0.94123536\n",
            " 0.8447119  0.75657427 0.66763812 0.58838493 0.52004218 0.46013916\n",
            " 0.40557942 0.35438505 0.30591005 0.26040137 0.21847147 0.18071327\n",
            " 0.14750297 0.11895549 0.09496447 0.07527173 0.05953102 0.04735487\n",
            " 0.03834464 0.03210868 0.02827274 0.02648612]\n",
            "22 day output [[0.02642484]]\n",
            "23 day input [0.80495261 0.78669988 0.78853628 0.80620465 0.79590976 0.80331091\n",
            " 0.80211449 0.80233713 0.7958262  0.79485242 0.78375052 0.76608224\n",
            " 0.82159141 0.84791306 0.8546744  0.84994425 0.84952691 0.84671664\n",
            " 0.84952691 0.86410675 0.85854191 0.85395094 0.86872557 0.86260422\n",
            " 0.85943231 0.86079566 0.86713957 0.87342786 0.88600436 0.88550354\n",
            " 0.8934056  0.87693374 0.87301052 0.90659431 0.92598777 0.92131324\n",
            " 0.91346689 0.92512514 0.93297158 0.9344741  0.92818582 0.89952695\n",
            " 0.90475791 0.909015   0.92309403 0.92988314 0.93836947 0.96830831\n",
            " 0.95225371 0.94034497 0.92785194 0.94496379 0.93191424 0.91405117\n",
            " 0.93066221 0.9342237  0.93199771 0.94727324 0.94017803 0.94062322\n",
            " 0.94930435 0.9380356  0.92303833 0.92481911 0.93797998 0.95317195\n",
            " 0.96035055 0.961714   1.         0.98772953 0.96488591 0.9562604\n",
            " 0.95998882 0.97632169 0.93956589 0.91994988 0.94123536 0.8447119\n",
            " 0.75657427 0.66763812 0.58838493 0.52004218 0.46013916 0.40557942\n",
            " 0.35438505 0.30591005 0.26040137 0.21847147 0.18071327 0.14750297\n",
            " 0.11895549 0.09496447 0.07527173 0.05953102 0.04735487 0.03834464\n",
            " 0.03210868 0.02827274 0.02648612 0.02642484]\n",
            "23 day output [[0.02779287]]\n",
            "24 day input [0.78669988 0.78853628 0.80620465 0.79590976 0.80331091 0.80211449\n",
            " 0.80233713 0.7958262  0.79485242 0.78375052 0.76608224 0.82159141\n",
            " 0.84791306 0.8546744  0.84994425 0.84952691 0.84671664 0.84952691\n",
            " 0.86410675 0.85854191 0.85395094 0.86872557 0.86260422 0.85943231\n",
            " 0.86079566 0.86713957 0.87342786 0.88600436 0.88550354 0.8934056\n",
            " 0.87693374 0.87301052 0.90659431 0.92598777 0.92131324 0.91346689\n",
            " 0.92512514 0.93297158 0.9344741  0.92818582 0.89952695 0.90475791\n",
            " 0.909015   0.92309403 0.92988314 0.93836947 0.96830831 0.95225371\n",
            " 0.94034497 0.92785194 0.94496379 0.93191424 0.91405117 0.93066221\n",
            " 0.9342237  0.93199771 0.94727324 0.94017803 0.94062322 0.94930435\n",
            " 0.9380356  0.92303833 0.92481911 0.93797998 0.95317195 0.96035055\n",
            " 0.961714   1.         0.98772953 0.96488591 0.9562604  0.95998882\n",
            " 0.97632169 0.93956589 0.91994988 0.94123536 0.8447119  0.75657427\n",
            " 0.66763812 0.58838493 0.52004218 0.46013916 0.40557942 0.35438505\n",
            " 0.30591005 0.26040137 0.21847147 0.18071327 0.14750297 0.11895549\n",
            " 0.09496447 0.07527173 0.05953102 0.04735487 0.03834464 0.03210868\n",
            " 0.02827274 0.02648612 0.02642484 0.02779287]\n",
            "24 day output [[0.03032206]]\n",
            "25 day input [0.78853628 0.80620465 0.79590976 0.80331091 0.80211449 0.80233713\n",
            " 0.7958262  0.79485242 0.78375052 0.76608224 0.82159141 0.84791306\n",
            " 0.8546744  0.84994425 0.84952691 0.84671664 0.84952691 0.86410675\n",
            " 0.85854191 0.85395094 0.86872557 0.86260422 0.85943231 0.86079566\n",
            " 0.86713957 0.87342786 0.88600436 0.88550354 0.8934056  0.87693374\n",
            " 0.87301052 0.90659431 0.92598777 0.92131324 0.91346689 0.92512514\n",
            " 0.93297158 0.9344741  0.92818582 0.89952695 0.90475791 0.909015\n",
            " 0.92309403 0.92988314 0.93836947 0.96830831 0.95225371 0.94034497\n",
            " 0.92785194 0.94496379 0.93191424 0.91405117 0.93066221 0.9342237\n",
            " 0.93199771 0.94727324 0.94017803 0.94062322 0.94930435 0.9380356\n",
            " 0.92303833 0.92481911 0.93797998 0.95317195 0.96035055 0.961714\n",
            " 1.         0.98772953 0.96488591 0.9562604  0.95998882 0.97632169\n",
            " 0.93956589 0.91994988 0.94123536 0.8447119  0.75657427 0.66763812\n",
            " 0.58838493 0.52004218 0.46013916 0.40557942 0.35438505 0.30591005\n",
            " 0.26040137 0.21847147 0.18071327 0.14750297 0.11895549 0.09496447\n",
            " 0.07527173 0.05953102 0.04735487 0.03834464 0.03210868 0.02827274\n",
            " 0.02648612 0.02642484 0.02779287 0.03032206]\n",
            "25 day output [[0.03377105]]\n",
            "26 day input [0.80620465 0.79590976 0.80331091 0.80211449 0.80233713 0.7958262\n",
            " 0.79485242 0.78375052 0.76608224 0.82159141 0.84791306 0.8546744\n",
            " 0.84994425 0.84952691 0.84671664 0.84952691 0.86410675 0.85854191\n",
            " 0.85395094 0.86872557 0.86260422 0.85943231 0.86079566 0.86713957\n",
            " 0.87342786 0.88600436 0.88550354 0.8934056  0.87693374 0.87301052\n",
            " 0.90659431 0.92598777 0.92131324 0.91346689 0.92512514 0.93297158\n",
            " 0.9344741  0.92818582 0.89952695 0.90475791 0.909015   0.92309403\n",
            " 0.92988314 0.93836947 0.96830831 0.95225371 0.94034497 0.92785194\n",
            " 0.94496379 0.93191424 0.91405117 0.93066221 0.9342237  0.93199771\n",
            " 0.94727324 0.94017803 0.94062322 0.94930435 0.9380356  0.92303833\n",
            " 0.92481911 0.93797998 0.95317195 0.96035055 0.961714   1.\n",
            " 0.98772953 0.96488591 0.9562604  0.95998882 0.97632169 0.93956589\n",
            " 0.91994988 0.94123536 0.8447119  0.75657427 0.66763812 0.58838493\n",
            " 0.52004218 0.46013916 0.40557942 0.35438505 0.30591005 0.26040137\n",
            " 0.21847147 0.18071327 0.14750297 0.11895549 0.09496447 0.07527173\n",
            " 0.05953102 0.04735487 0.03834464 0.03210868 0.02827274 0.02648612\n",
            " 0.02642484 0.02779287 0.03032206 0.03377105]\n",
            "26 day output [[0.03792355]]\n",
            "27 day input [0.79590976 0.80331091 0.80211449 0.80233713 0.7958262  0.79485242\n",
            " 0.78375052 0.76608224 0.82159141 0.84791306 0.8546744  0.84994425\n",
            " 0.84952691 0.84671664 0.84952691 0.86410675 0.85854191 0.85395094\n",
            " 0.86872557 0.86260422 0.85943231 0.86079566 0.86713957 0.87342786\n",
            " 0.88600436 0.88550354 0.8934056  0.87693374 0.87301052 0.90659431\n",
            " 0.92598777 0.92131324 0.91346689 0.92512514 0.93297158 0.9344741\n",
            " 0.92818582 0.89952695 0.90475791 0.909015   0.92309403 0.92988314\n",
            " 0.93836947 0.96830831 0.95225371 0.94034497 0.92785194 0.94496379\n",
            " 0.93191424 0.91405117 0.93066221 0.9342237  0.93199771 0.94727324\n",
            " 0.94017803 0.94062322 0.94930435 0.9380356  0.92303833 0.92481911\n",
            " 0.93797998 0.95317195 0.96035055 0.961714   1.         0.98772953\n",
            " 0.96488591 0.9562604  0.95998882 0.97632169 0.93956589 0.91994988\n",
            " 0.94123536 0.8447119  0.75657427 0.66763812 0.58838493 0.52004218\n",
            " 0.46013916 0.40557942 0.35438505 0.30591005 0.26040137 0.21847147\n",
            " 0.18071327 0.14750297 0.11895549 0.09496447 0.07527173 0.05953102\n",
            " 0.04735487 0.03834464 0.03210868 0.02827274 0.02648612 0.02642484\n",
            " 0.02779287 0.03032206 0.03377105 0.03792355]\n",
            "27 day output [[0.04258645]]\n",
            "28 day input [0.80331091 0.80211449 0.80233713 0.7958262  0.79485242 0.78375052\n",
            " 0.76608224 0.82159141 0.84791306 0.8546744  0.84994425 0.84952691\n",
            " 0.84671664 0.84952691 0.86410675 0.85854191 0.85395094 0.86872557\n",
            " 0.86260422 0.85943231 0.86079566 0.86713957 0.87342786 0.88600436\n",
            " 0.88550354 0.8934056  0.87693374 0.87301052 0.90659431 0.92598777\n",
            " 0.92131324 0.91346689 0.92512514 0.93297158 0.9344741  0.92818582\n",
            " 0.89952695 0.90475791 0.909015   0.92309403 0.92988314 0.93836947\n",
            " 0.96830831 0.95225371 0.94034497 0.92785194 0.94496379 0.93191424\n",
            " 0.91405117 0.93066221 0.9342237  0.93199771 0.94727324 0.94017803\n",
            " 0.94062322 0.94930435 0.9380356  0.92303833 0.92481911 0.93797998\n",
            " 0.95317195 0.96035055 0.961714   1.         0.98772953 0.96488591\n",
            " 0.9562604  0.95998882 0.97632169 0.93956589 0.91994988 0.94123536\n",
            " 0.8447119  0.75657427 0.66763812 0.58838493 0.52004218 0.46013916\n",
            " 0.40557942 0.35438505 0.30591005 0.26040137 0.21847147 0.18071327\n",
            " 0.14750297 0.11895549 0.09496447 0.07527173 0.05953102 0.04735487\n",
            " 0.03834464 0.03210868 0.02827274 0.02648612 0.02642484 0.02779287\n",
            " 0.03032206 0.03377105 0.03792355 0.04258645]\n",
            "28 day output [[0.04758787]]\n",
            "29 day input [0.80211449 0.80233713 0.7958262  0.79485242 0.78375052 0.76608224\n",
            " 0.82159141 0.84791306 0.8546744  0.84994425 0.84952691 0.84671664\n",
            " 0.84952691 0.86410675 0.85854191 0.85395094 0.86872557 0.86260422\n",
            " 0.85943231 0.86079566 0.86713957 0.87342786 0.88600436 0.88550354\n",
            " 0.8934056  0.87693374 0.87301052 0.90659431 0.92598777 0.92131324\n",
            " 0.91346689 0.92512514 0.93297158 0.9344741  0.92818582 0.89952695\n",
            " 0.90475791 0.909015   0.92309403 0.92988314 0.93836947 0.96830831\n",
            " 0.95225371 0.94034497 0.92785194 0.94496379 0.93191424 0.91405117\n",
            " 0.93066221 0.9342237  0.93199771 0.94727324 0.94017803 0.94062322\n",
            " 0.94930435 0.9380356  0.92303833 0.92481911 0.93797998 0.95317195\n",
            " 0.96035055 0.961714   1.         0.98772953 0.96488591 0.9562604\n",
            " 0.95998882 0.97632169 0.93956589 0.91994988 0.94123536 0.8447119\n",
            " 0.75657427 0.66763812 0.58838493 0.52004218 0.46013916 0.40557942\n",
            " 0.35438505 0.30591005 0.26040137 0.21847147 0.18071327 0.14750297\n",
            " 0.11895549 0.09496447 0.07527173 0.05953102 0.04735487 0.03834464\n",
            " 0.03210868 0.02827274 0.02648612 0.02642484 0.02779287 0.03032206\n",
            " 0.03377105 0.03792355 0.04258645 0.04758787]\n",
            "29 day output [[0.05277539]]\n",
            "[[0.8447118997573853], [0.756574273109436], [0.6676381230354309], [0.5883849263191223], [0.5200421810150146], [0.4601391553878784], [0.40557941794395447], [0.35438504815101624], [0.30591005086898804], [0.2604013681411743], [0.2184714674949646], [0.18071326613426208], [0.14750297367572784], [0.11895549297332764], [0.09496446698904037], [0.07527172565460205], [0.059531018137931824], [0.04735486954450607], [0.03834464028477669], [0.03210867941379547], [0.028272738680243492], [0.026486122980713844], [0.026424840092658997], [0.02779286913573742], [0.030322061851620674], [0.03377104550600052], [0.037923552095890045], [0.042586445808410645], [0.04758787155151367], [0.052775390446186066]]\n"
          ]
        }
      ]
    },
    {
      "cell_type": "code",
      "source": [
        "new=np.arange(1,101)\n",
        "pre=np.arange(101,131)"
      ],
      "metadata": {
        "id": "3i1_So57qclW"
      },
      "execution_count": null,
      "outputs": []
    },
    {
      "cell_type": "code",
      "source": [
        "import matplotlib.pyplot as plt"
      ],
      "metadata": {
        "id": "cyzKpUNPqydW"
      },
      "execution_count": null,
      "outputs": []
    },
    {
      "cell_type": "code",
      "source": [
        "len(df1)"
      ],
      "metadata": {
        "id": "aM7hZvmDq8hH",
        "outputId": "bd43a4fb-40b8-4c51-d9c9-3658c909bf85",
        "colab": {
          "base_uri": "https://localhost:8080/"
        }
      },
      "execution_count": null,
      "outputs": [
        {
          "output_type": "execute_result",
          "data": {
            "text/plain": [
              "9420"
            ]
          },
          "metadata": {},
          "execution_count": 37
        }
      ]
    },
    {
      "cell_type": "code",
      "source": [
        "plt.plot(new,scaler.inverse_transform(df1[9320:]))\n",
        "plt.plot(pre,scaler.inverse_transform(output))"
      ],
      "metadata": {
        "id": "eSuje7VjrK3e",
        "outputId": "4b00276d-7a39-4057-8f98-2e21bd330615",
        "colab": {
          "base_uri": "https://localhost:8080/",
          "height": 447
        }
      },
      "execution_count": null,
      "outputs": [
        {
          "output_type": "execute_result",
          "data": {
            "text/plain": [
              "[<matplotlib.lines.Line2D at 0x7c6aa29420b0>]"
            ]
          },
          "metadata": {},
          "execution_count": 39
        },
        {
          "output_type": "display_data",
          "data": {
            "text/plain": [
              "<Figure size 640x480 with 1 Axes>"
            ],
            "image/png": "[encoded data removed]"
          },
          "metadata": {}
        }
      ]
    },
    {
      "cell_type": "code",
      "source": [
        "df5=df1.tolist()\n",
        "df5.extend(output)\n",
        "plt.plot(df5[9300:])"
      ],
      "metadata": {
        "id": "FalB4Zpgr1DK",
        "outputId": "6ec549fe-54be-49bc-c65e-8577cf9b9497",
        "colab": {
          "base_uri": "https://localhost:8080/",
          "height": 447
        }
      },
      "execution_count": null,
      "outputs": [
        {
          "output_type": "execute_result",
          "data": {
            "text/plain": [
              "[<matplotlib.lines.Line2D at 0x7c6aa3f59cf0>]"
            ]
          },
          "metadata": {},
          "execution_count": 40
        },
        {
          "output_type": "display_data",
          "data": {
            "text/plain": [
              "<Figure size 640x480 with 1 Axes>"
            ],
            "image/png": "[encoded data removed]"
          },
          "metadata": {}
        }
      ]
    },
    {
      "cell_type": "code",
      "source": [
        "df5=scaler.inverse_transform(df5).tolist()\n",
        "plt.plot(df5)"
      ],
      "metadata": {
        "id": "3GdIMTaTsNXX",
        "outputId": "090b2f80-3de2-40a9-c605-f9f61591aa3e",
        "colab": {
          "base_uri": "https://localhost:8080/",
          "height": 447
        }
      },
      "execution_count": null,
      "outputs": [
        {
          "output_type": "execute_result",
          "data": {
            "text/plain": [
              "[<matplotlib.lines.Line2D at 0x7c6a9b5e88e0>]"
            ]
          },
          "metadata": {},
          "execution_count": 41
        },
        {
          "output_type": "display_data",
          "data": {
            "text/plain": [
              "<Figure size 640x480 with 1 Axes>"
            ],
            "image/png": "[encoded data removed]"
          },
          "metadata": {}
        }
      ]
    }
  ],
  "metadata": {
    "colab": {
      "provenance": [],
      "include_colab_link": true
    },
    "kernelspec": {
      "display_name": "Python 3",
      "name": "python3"
    }
  },
  "nbformat": 4,
  "nbformat_minor": 0
}